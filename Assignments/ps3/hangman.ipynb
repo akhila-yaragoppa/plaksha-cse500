{
 "cells": [
  {
   "cell_type": "markdown",
   "metadata": {},
   "source": [
    "Before you turn this problem in, make sure everything runs as expected. First, **restart the kernel** (in the menubar, select Kernel$\\rightarrow$Restart) and then **run all cells** (in the menubar, select Cell$\\rightarrow$Run All).\n",
    "\n",
    "Make sure you fill in any place that says `YOUR CODE HERE` or \"YOUR ANSWER HERE\", as well as your name and collaborators below:"
   ]
  },
  {
   "cell_type": "code",
   "execution_count": null,
   "metadata": {},
   "outputs": [],
   "source": [
    "NAME = \"\"\n",
    "COLLABORATORS = \"\""
   ]
  },
  {
   "cell_type": "markdown",
   "metadata": {},
   "source": [
    "---"
   ]
  },
  {
   "cell_type": "markdown",
   "metadata": {
    "deletable": false,
    "editable": false,
    "nbgrader": {
     "checksum": "b83a9c0d993ed8b159ac47f93b1cc62b",
     "grade": false,
     "grade_id": "cell-145adc54c508ad4c",
     "locked": true,
     "schema_version": 1,
     "solution": false
    }
   },
   "source": [
    "### Hangman (thanks MIT OCW for this assignment)\n",
    "\n",
    "You will implement a variation of the classic word game Hangman. If you are unfamiliar with the rules of the game, read http://en.wikipedia.org/wiki/Hangman_(game). Don’t be intimidated by this problem it's actually easier than it looks! We will 'scaffold' this problem, guiding you through the creation of helper functions before you implement the actual game.\n",
    "\n",
    "\n",
    "You will implement a function called hangman that will allow the user to play hangman against the computer. The computer picks the word, and the player tries to guess letters in the word. \n",
    "\n",
    "Here is the general behavior we want to implement. Don’t be intimidated! This is just a description; we will break this down into steps and provide further functional specs later on in the pset so keep reading!\n",
    "\n",
    "1. The computer must select a word at random from the list of available words that was provided in words.txt  \n",
    "        Note that words.txt contains words in all lowercase letters.  \n",
    "2. The user is given a certain number of guesses at the beginning.  \n",
    "3. The game is interactive; the user inputs their guess and the computer either:\n",
    "    a. reveals the letter if it exists in the secret word\n",
    "    b. penalize the user and updates the number of guesses remaining\n",
    "4. The game ends when either the user guesses the secret word, or the user runs out of guesses. "
   ]
  },
  {
   "cell_type": "markdown",
   "metadata": {
    "deletable": false,
    "editable": false,
    "nbgrader": {
     "checksum": "a1c799919942ec074797cd40c25f091e",
     "grade": false,
     "grade_id": "cell-fb3defc8f5e896f7",
     "locked": true,
     "schema_version": 1,
     "solution": false
    }
   },
   "source": [
    "First, let us run some code to load the words from a file. You should see the following output when you run both cells below:\n",
    "\n",
    "`\n",
    "Loading word list from file...\n",
    "   55900 words loaded.\n",
    "`\n"
   ]
  },
  {
   "cell_type": "code",
   "execution_count": null,
   "metadata": {
    "deletable": false,
    "editable": false,
    "nbgrader": {
     "checksum": "981319ea81c45672284891f5e4007684",
     "grade": false,
     "grade_id": "cell-1c432898e5920904",
     "locked": true,
     "schema_version": 1,
     "solution": false
    }
   },
   "outputs": [],
   "source": [
    "# Hangman Game\n",
    "import random\n",
    "import string\n",
    "\n",
    "WORDLIST_FILENAME = \"words.txt\"\n",
    "\n",
    "\n",
    "def load_words():\n",
    "    \"\"\"\n",
    "    Returns a list of valid words. Words are strings of lowercase letters.\n",
    "    \n",
    "    Depending on the size of the word list, this function may\n",
    "    take a while to finish.\n",
    "    \"\"\"\n",
    "    print(\"Loading word list from file...\")\n",
    "    # inFile: file\n",
    "    inFile = open(WORDLIST_FILENAME, 'r')\n",
    "    # line: string\n",
    "    line = inFile.readline()\n",
    "    # wordlist: list of strings\n",
    "    wordlist = line.split()\n",
    "    print(\"  \", len(wordlist), \"words loaded.\")\n",
    "    return wordlist\n",
    "\n",
    "\n",
    "\n",
    "def choose_word(wordlist):\n",
    "    \"\"\"\n",
    "    wordlist (list): list of words (strings)\n",
    "    \n",
    "    Returns a word from wordlist at random\n",
    "    \"\"\"\n",
    "    return random.choice(wordlist)\n",
    "\n"
   ]
  },
  {
   "cell_type": "code",
   "execution_count": null,
   "metadata": {
    "deletable": false,
    "editable": false,
    "nbgrader": {
     "checksum": "54f6f067b937eb34e278b3bb75df78ea",
     "grade": false,
     "grade_id": "cell-3cd58449af612f2c",
     "locked": true,
     "schema_version": 1,
     "solution": false
    }
   },
   "outputs": [],
   "source": [
    "# Load wordlist\n",
    "wordlist = load_words()\n"
   ]
  },
  {
   "cell_type": "markdown",
   "metadata": {
    "deletable": false,
    "editable": false,
    "nbgrader": {
     "checksum": "6b6d5c2e0acac95dcbc80e145ac70286",
     "grade": false,
     "grade_id": "cell-7ae0e8fba98f067e",
     "locked": true,
     "schema_version": 1,
     "solution": false
    }
   },
   "source": [
    "Before we have you write code to organize the hangman game, we are going to break down the problem into logical subtasks, creating three helper functions you will need to have in order for this game to work.  This is a common approach to computational problem solving, and one we want you to begin experiencing."
   ]
  },
  {
   "cell_type": "markdown",
   "metadata": {
    "deletable": false,
    "editable": false,
    "nbgrader": {
     "checksum": "e08a29280e833c62a54cb3ee47e208ed",
     "grade": false,
     "grade_id": "cell-026544d9f5abe2e9",
     "locked": true,
     "schema_version": 1,
     "solution": false
    }
   },
   "source": [
    "#### 1A) Determine whether the word has been guessed\n",
    "\n",
    "First, implement the function `is_word_guessed` that takes in two parameters - a string, secret_word, and a list of letters (strings), letters_guessed. This function returns a boolean - True if secret_word has been guessed (i.e., all the letters of secret_word are in letters_guessed), and False otherwise. This function will be useful in helping you decide when the hangman game has been successfully completed, and becomes an end­test for any iterative loop that checks letters against the secret word. \n",
    "\n",
    "For this function, you may assume that all the letters in secret_word and letters_guessed are lowercase.\n",
    "\n",
    "Example Usage: \n",
    "\n",
    "`\n",
    "secret_word = 'apple' \n",
    "letters_guessed = ['e', 'i', 'k', 'p', 'r', 's'] \n",
    "print(is_word_guessed(secret_word, letters_guessed)) \n",
    "False\n",
    "`\n"
   ]
  },
  {
   "cell_type": "code",
   "execution_count": null,
   "metadata": {
    "deletable": false,
    "nbgrader": {
     "checksum": "bd56f7cd3a47673e8cd19ad647d72b2e",
     "grade": false,
     "grade_id": "cell-4040dc1fde228284",
     "locked": false,
     "schema_version": 1,
     "solution": true
    }
   },
   "outputs": [],
   "source": [
    "def is_word_guessed(secret_word, letters_guessed):\n",
    "    '''\n",
    "    secret_word: string, the word the user is guessing; assumes all letters are\n",
    "      lowercase\n",
    "    letters_guessed: list (of letters), which letters have been guessed so far;\n",
    "      assumes that all letters are lowercase\n",
    "    returns: boolean, True if all the letters of secret_word are in letters_guessed;\n",
    "      False otherwise\n",
    "    '''\n",
    "    # YOUR CODE HERE\n",
    "    raise NotImplementedError()"
   ]
  },
  {
   "cell_type": "code",
   "execution_count": null,
   "metadata": {
    "deletable": false,
    "editable": false,
    "nbgrader": {
     "checksum": "d8d89e148c3d8afcd2d1e693b86c2df4",
     "grade": true,
     "grade_id": "hangman-is_word_guessed",
     "locked": true,
     "points": 5,
     "schema_version": 1,
     "solution": false
    }
   },
   "outputs": [],
   "source": [
    "from nose.tools import assert_equal\n",
    "assert_equal(is_word_guessed('smart', ['s','m','a','t','o','r','a']), True)"
   ]
  },
  {
   "cell_type": "markdown",
   "metadata": {
    "deletable": false,
    "editable": false,
    "nbgrader": {
     "checksum": "764af5331ada36f6ff4fe3e7049b2444",
     "grade": false,
     "grade_id": "cell-173b1a0bcc41eb79",
     "locked": true,
     "schema_version": 1,
     "solution": false
    }
   },
   "source": [
    "#### 1B) Getting the user’s guess \n",
    "\n",
    "Next, implement the function `get_guessed_word` that takes in two parameters - a string, `secret_word`, and a list of letters, `letters_guessed`. This function returns a string that is comprised of letters and underscores, based on what letters in `letters_guessed` are in `secret_word`. This shouldn't be too different from `is_word_guessed`!\n",
    "\n",
    "We are going to use an underscore followed by a space (_ ) to represent unknown letters. We could have chosen other symbols, but the combination of underscore and space is visible and easily discerned. Note that the space is super important, as otherwise it hard to distinguish whether \\____ is four elements long or three. This is called *usability* - it's very important, when programming, to consider the usability of your program. If users find your program difficult to understand or operate, they won't use it! We encourage you to think about usability when designing your program.\n",
    "\n",
    "Hint: In designing your function, think about what information you want to return when done, whether you need a place to store that information as you loop over a data structure, and how you want to add information to your accumulated result.\n",
    "\n",
    "Example Usage: \n",
    "\n",
    "`\n",
    "secret_word = 'apple'  \n",
    "letters_guessed = ['e', 'i', 'k', 'p', 'r', 's'] \n",
    "print(get_guessed_word(secret_word, letters_guessed)) \n",
    "'_ pp_ e' \n",
    "`"
   ]
  },
  {
   "cell_type": "code",
   "execution_count": null,
   "metadata": {
    "deletable": false,
    "nbgrader": {
     "checksum": "b26e6142403df3c9919dc3e5c45768e5",
     "grade": false,
     "grade_id": "hangman-get_guessed_word",
     "locked": false,
     "schema_version": 1,
     "solution": true
    }
   },
   "outputs": [],
   "source": [
    "def get_guessed_word(secret_word, letters_guessed):\n",
    "    '''\n",
    "    secret_word: string, the word the user is guessing\n",
    "    letters_guessed: list (of letters), which letters have been guessed so far\n",
    "    returns: string, comprised of letters, underscores (_), and spaces that represents\n",
    "      which letters in secret_word have been guessed so far.\n",
    "    '''\n",
    "    # YOUR CODE HERE\n",
    "    raise NotImplementedError()"
   ]
  },
  {
   "cell_type": "code",
   "execution_count": null,
   "metadata": {
    "deletable": false,
    "editable": false,
    "nbgrader": {
     "checksum": "608da22e1d29827199121318c175331c",
     "grade": true,
     "grade_id": "cell-7874849b33084a20",
     "locked": true,
     "points": 5,
     "schema_version": 1,
     "solution": false
    }
   },
   "outputs": [],
   "source": [
    "from nose.tools import assert_equal\n",
    "assert_equal(get_guessed_word('apple',['e','i','k','p','r','s']),'_ pp_ e')"
   ]
  },
  {
   "cell_type": "markdown",
   "metadata": {
    "deletable": false,
    "editable": false,
    "nbgrader": {
     "checksum": "ed3ba988c89dc2649f7f245433a569a6",
     "grade": false,
     "grade_id": "cell-d00cc49398be5d7a",
     "locked": true,
     "schema_version": 1,
     "solution": false
    }
   },
   "source": [
    "#### 1C) Getting all available letters  \n",
    "\n",
    "Next, implement the function `get_available_letters` that takes in one parameter - a list of letters, `letters_guessed`. This function returns a string that is comprised of lowercase English letters - all lowercase English letters that are not in `letters_guessed`.\n",
    "\n",
    "This function should return the letters in alphabetical order. For this function, you may assume that all the letters in `letters_guessed` are lowercase. \n",
    "\n",
    "Hint: You might consider using `string.ascii_lowercase`, which is a string comprised of all lowercase letters: \n",
    "\n",
    "`\n",
    "import string \n",
    "print(string.ascii_lowercase) \n",
    "abcdefghijklmnopqrstuvwxyz\n",
    "`\n",
    "\n",
    "Example Usage: \n",
    "`\n",
    "letters_guessed = ['e', 'i', 'k', 'p', 'r', 's'] \n",
    "print get_available_letters(letters_guessed) \n",
    "abcdfghjlmnoqtuvwxyz\n",
    "`"
   ]
  },
  {
   "cell_type": "code",
   "execution_count": null,
   "metadata": {
    "deletable": false,
    "nbgrader": {
     "checksum": "79e197501dfeddcff79e52e81b6a6dad",
     "grade": false,
     "grade_id": "hangman-get_available_letters",
     "locked": false,
     "schema_version": 1,
     "solution": true
    }
   },
   "outputs": [],
   "source": [
    "def get_available_letters(letters_guessed):\n",
    "    '''\n",
    "    letters_guessed: list (of letters), which letters have been guessed so far\n",
    "    returns: string (of letters), comprised of letters that represents which letters have not\n",
    "      yet been guessed.\n",
    "    '''\n",
    "    # YOUR CODE HERE\n",
    "    raise NotImplementedError()"
   ]
  },
  {
   "cell_type": "code",
   "execution_count": null,
   "metadata": {
    "deletable": false,
    "editable": false,
    "nbgrader": {
     "checksum": "9c230ef737022882162977993c2f6ded",
     "grade": true,
     "grade_id": "cell-5b13defffcdea074",
     "locked": true,
     "points": 5,
     "schema_version": 1,
     "solution": false
    }
   },
   "outputs": [],
   "source": [
    "from nose.tools import assert_equal\n",
    "assert_equal(get_available_letters(['e','i','k','p','r','s']),'abcdfghjlmnoqtuvwxyz')\n"
   ]
  },
  {
   "cell_type": "markdown",
   "metadata": {
    "deletable": false,
    "editable": false,
    "nbgrader": {
     "checksum": "2b4b9c51a5c1eacd6f577f3066ee427c",
     "grade": false,
     "grade_id": "cell-7ed732d8cdc8acab",
     "locked": true,
     "schema_version": 1,
     "solution": false
    }
   },
   "source": [
    "### Hangman Part 2: The Game\n",
    "\n",
    "Now that you have built some useful functions, you can turn to implementing the function `hangman`, which takes one parameter - the `secret_word` the user is to guess. Initially, you can (and should!) manually set this secret word when you run this function – this will make it easier to test your code. But in the end, you will want the computer to select this secret word at random before inviting you or some other user to play the game by running this function.\n",
    "\n",
    "Calling the hangman function starts up an interactive game of Hangman between the user and the computer. In designing your code, be sure you take advantage of the three helper functions, `is_word_guessed`, `get_guessed_word`, and `get_available_letters`, that you've defined in the previous part!\n",
    "\n",
    "Below are the game requirements broken down in different categories. Make sure your implementation fits all the requirements!  \n"
   ]
  },
  {
   "cell_type": "markdown",
   "metadata": {
    "deletable": false,
    "editable": false,
    "nbgrader": {
     "checksum": "5bb8b22a65d92076d7144d690dc61c7c",
     "grade": false,
     "grade_id": "cell-9d9a44c85ad1bbde",
     "locked": true,
     "schema_version": 1,
     "solution": false
    }
   },
   "source": [
    "#### A. Game Architecture:  \n",
    "\n",
    "1. The computer must select a word at random from the list of available words that was provided in words.txt. The functions for loading the word list and selecting a random word have already been provided for you in hangman.py.\n",
    "2. Users start with 6 guesses.  \n",
    "3. At the start of the game, let the user know how many letters the computer's word contains and how many guesses s/he starts with.  \n",
    "4. The computer keeps track of all the letters the user has not guessed so far and before each turn shows the user the “remaining letters”\n",
    "\n",
    "Example Game Implementation:\n",
    "\n",
    "`\n",
    "Loading word list from file... \n",
    "55900 words loaded. \n",
    "Welcome to the game Hangman! \n",
    "I am thinking of a word that is 4 letters long.  \n",
    "'_ _ _ _ '\n",
    "You have 6 guesses left. \n",
    "Available letters: abcdefghijklmnopqrstuvwxyz \n",
    "`"
   ]
  },
  {
   "cell_type": "markdown",
   "metadata": {
    "deletable": false,
    "editable": false,
    "nbgrader": {
     "checksum": "4714dfa02c730842b52b4f8559adf83b",
     "grade": false,
     "grade_id": "cell-ffda854318ba5285",
     "locked": true,
     "schema_version": 1,
     "solution": false
    }
   },
   "source": [
    "#### B. User-Computer Interaction:\n",
    "\n",
    "The game must be interactive and flow as follows:\n",
    "\n",
    "1. Before each guess, you should display to the user: \n",
    "    a. Remind the user of how many guesses s/he has left after each guess.  \n",
    "    b. all the letters the user has not yet guessed \n",
    "2. Ask the user to supply one guess at a time. (Look at the user input requirements below to see what types of inputs you can expect from the user)\n",
    "3. Immediately after each guess, the user should be told whether the letter is in the computer’s word.\n",
    "4. After each guess, you should also display to the user the computer’s word, with guessed letters displayed and unguessed letters replaced with an underscore and space (_ ) \n",
    "5. At the end of the guess, print some dashes (----) to help separate individual guesses from each other\n",
    "\n",
    "Example Game Implementation:\n",
    "\n",
    "(The <span style=\"color:blue\">blue</span> color below is only there to show you what the user typed in, as opposed to what the computer output.)\n",
    "\n",
    "`\n",
    "You have 6 guesses left. \n",
    "Available letters: abcdefghijklmnopqrstuvwxyz \n",
    "Please guess a letter: `<span style=\"color:blue\">a</span><br>`\n",
    "Good guess: _ a_ _ \n",
    "`\n",
    "<br>\n",
    "`------------  `\n",
    "<br>\n",
    "`\n",
    "You have 6 guesses left. \n",
    "Available letters: bcdefghijklmnopqrstuvwxyz \n",
    "Please guess a letter: `<span style=\"color:blue\">b</span><br>`\n",
    "Oops! That letter is not in my word: _ a_ _  \n",
    "`\n"
   ]
  },
  {
   "cell_type": "markdown",
   "metadata": {
    "deletable": false,
    "editable": false,
    "nbgrader": {
     "checksum": "b7228c112a87d8b078786a46f10909be",
     "grade": false,
     "grade_id": "cell-c956ac9e6b90df81",
     "locked": true,
     "schema_version": 1,
     "solution": false
    }
   },
   "source": [
    "#### C. User Input Requirements:\n",
    "\n",
    "1. You may assume that the user will only guess one character at a time, but the user can choose any number, symbol or letter. Your code should accept capital and lowercase letters as valid guesses! \n",
    "2. If the user inputs anything besides an alphabet (symbols, numbers), tell the user that they can only input an alphabet. Because the user might do this by accident, they should get 3 warnings at the beginning of the game. Each time they enter an invalid input, or a letter they have already guessed, they should lose a warning. If the user has no warnings left and enters an invalid input, they should lose a guess. \n",
    "\n",
    "**Hint #1:** Use calls to the input function to get the user’s guess.  \n",
    "        a. Check that the user input is an alphabet\n",
    "        b. If the user does not input an uppercase or lowercase alphabet letter, subtract one warning or one guess. \n",
    "**Hint #2:** you may find the string functions `str.isalpha(‘your string’)` and `str.lower(‘Your String’)` helpful! If you don’t know what these functions are you could try typing `help(str.isalpha)` or `help(str.lower)` to see the documentation for the functions.  \n",
    "**Hint #3:** Since the words in words.txt are lowercase, it might be easier to convert the user input to lowercase at all times and have your game only handle lowercase.\n",
    "\n",
    "Example Game Implementation:\n",
    "\n",
    "`\n",
    "You have 3 warnings left. \n",
    "You have 6 guesses left. \n",
    "Available letters: bcdefghijklmnopqrstuvwxyz \n",
    "Please guess a letter: `<span style=\"color:blue\">s</span><br>`\n",
    "Oops! That letter is not in my word: _ a_ _  \n",
    "`\n",
    "<br>\n",
    "`------------  `\n",
    "<br>\n",
    "`\n",
    "You have 5 guesses left. \n",
    "Available letters: bcdefghijklmnopqrtuvwxyz \n",
    "Please guess a letter: `<span style=\"color:blue\">\\$</span><br>`\n",
    "Oops! That is not a valid letter. You have 2 warnings left:  _ a_ _  \n",
    "`"
   ]
  },
  {
   "cell_type": "markdown",
   "metadata": {
    "deletable": false,
    "editable": false,
    "nbgrader": {
     "checksum": "497ac6616ad2538b753d4f35404ad5cd",
     "grade": false,
     "grade_id": "cell-68b07efad0940bc2",
     "locked": true,
     "schema_version": 1,
     "solution": false
    }
   },
   "source": [
    "#### D. Game Rules: \n",
    "\n",
    "1. The user starts with 3 warnings.\n",
    "2. If the user inputs anything besides an alphabet (symbols, numbers), tell the user that they can only input an alphabet.  \n",
    "    a. If the user has one or more warning left, the user should lose one warning. Tell the user the number of remaining warnings.\n",
    "    b. If the user has no remaining warnings, they should lose one guess.\n",
    "3. If the user inputs a letter that has already been guessed, print a message telling the user the letter has already been guessed before.\n",
    "    a. If the user has one or more warning left, the user should lose one warning. Tell the user the number of remaining warnings.\n",
    "    b. If the user has no warnings, they should lose one guess.\n",
    "4. If the user inputs a letter that hasn’t been guessed before and the letter is in the secret word, the user loses **no** guesses. \n",
    "5. **Consonants:** If the user inputs a consonant that hasn’t been guessed and the consonant is not in the secret word, the user loses **one** guess if it’s a consonant.\n",
    "6. **Vowels:** If the vowel hasn’t been guessed and the vowel is not in the secret  word, the user loses **two** guesses. Vowels are *a*, *e*, *i*, *o*, and *u*. *y* does not count as a vowel.\n",
    "\n",
    "\n",
    "Example Implementation: \n",
    "\n",
    "`\n",
    "You have 5 guesses left. \n",
    "Available letters: bcdefghijklmnopqrtuvwxyz \n",
    "Please guess a letter: `<span style=\"color:blue\">t</span><br>`\n",
    "Good guess: ta_ t  `\n",
    "<br>\n",
    "`------------  `\n",
    "<br>\n",
    "`\n",
    "You have 5 guesses left. \n",
    "Available letters: bcdefghijklmnopqrtuvwxyz \n",
    "Please guess a letter: `<span style=\"color:blue\">e</span><br>`\n",
    "Oops! That letter is not in my word: ta_ t  `\n",
    "<br>\n",
    "`------------  `\n",
    "<br>\n",
    "`\n",
    "You have 3 guesses left. \n",
    "Available letters: bcdfghijklmnopqrtuvwxyz \n",
    "Please guess a letter: `<span style=\"color:blue\">e</span><br>`\n",
    "Oops! You've already guessed that letter. You now have 2 warnings:\n",
    "ta_ t\n",
    "`"
   ]
  },
  {
   "cell_type": "markdown",
   "metadata": {
    "deletable": false,
    "editable": false,
    "nbgrader": {
     "checksum": "203341a5be0c391d9382383c8e98d8b9",
     "grade": false,
     "grade_id": "cell-a005da9bb145f20d",
     "locked": true,
     "schema_version": 1,
     "solution": false
    }
   },
   "source": [
    "#### E. Game Termination:\n",
    "\n",
    "1. The game should end when the user constructs the full word or runs out of guesses.  \n",
    "2. If the player runs out of guesses before completing the word, tell them they lost and reveal the word to the user when the game ends. \n",
    "3. If the user wins, print a congratulatory message and tell the user their score.  \n",
    "4. The total score is the number of `guesses_remaining` once the user has guessed the `secret_word` times the number of unique letters in `secret_word`.  \n",
    "\n",
    "**Total score = guesses_remaining \\* number unique letters in secret_word**\n",
    "\n",
    "Example Implementation: \n",
    "\n",
    "`\n",
    "You have 3 guesses left. \n",
    "Available letters: bcdfghijklnopquvwxyz \n",
    "Please guess a letter: `<span style=\"color:blue\">c</span><br>`\n",
    "Good guess: tact  \n",
    "`\n",
    "<br>\n",
    "`------------  `\n",
    "<br>\n",
    "` \n",
    "Congratulations, you won! \n",
    "Your total score for this game is: 9 \n",
    "`\n",
    "\n",
    "\n",
    "\n",
    "Example Implementation: \n",
    "\n",
    "`\n",
    "You have 3 guesses left. \n",
    "Available letters: bcdfghijklnopquvwxyz \n",
    "Please guess a letter: `<span style=\"color:blue\">n</span><br>`\n",
    "Good guess: dolphin  \n",
    "`\n",
    "<br>\n",
    "`------------  `\n",
    "<br>\n",
    "` \n",
    "Congratulations, you won! \n",
    "Your total score for this game is: 21 \n",
    "`"
   ]
  },
  {
   "cell_type": "markdown",
   "metadata": {
    "deletable": false,
    "editable": false,
    "nbgrader": {
     "checksum": "f83023282edfee09c6bd7daab13a9183",
     "grade": false,
     "grade_id": "cell-39421611cd405d31",
     "locked": true,
     "schema_version": 1,
     "solution": false
    }
   },
   "source": [
    "#### F. General Hints\n",
    "\n",
    "1. Consider writing additional helper functions if you need them.\n",
    "2. There are four important pieces of information you may wish to store:\n",
    "    a. `secret_word`: The word to guess.  This is already used as the parameter name for the hangman function.\n",
    "    b. `letters_guessed`: The letters that have been guessed so far. If they guess a letter that is already in `letters_guessed`, you should print a message telling them they've already guessed that but do not penalize them for it.  \n",
    "    c. `guesses_remaining`: The number of guesses the user has left. Note that in our example game, the penalty for choosing an incorrect vowel is different than the penalty for choosing an incorrect consonant.  \n",
    "    d. `warnings_remaining`: The number of warnings the user has left. Note that a user only loses a warning for inputting either a symbol or a letter that has already been guessed. "
   ]
  },
  {
   "cell_type": "markdown",
   "metadata": {
    "deletable": false,
    "editable": false,
    "nbgrader": {
     "checksum": "e962ee1da89398cd141f759bede2a241",
     "grade": false,
     "grade_id": "cell-8beae0a674f46d40",
     "locked": true,
     "schema_version": 1,
     "solution": false
    }
   },
   "source": [
    "#### G. Example Game\n",
    "\n",
    "Look carefully at the examples given above of running hangman, as that suggests examples of information you will want to print out after each guess of a letter.\n",
    "\n",
    "\n",
    "**Note: Try to make your print statements as close to the example game as possible!**\n",
    "\n",
    "\n",
    "The output of a **winning** game should look like this. (The <span style=\"color:blue\">blue</span> color below is only there to show you what the user typed in, as opposed to what the computer output.)\n",
    "\n",
    "`\n",
    "Loading word list from file... \n",
    "55900 words loaded. \n",
    "Welcome to the game Hangman! \n",
    "I am thinking of a word that is 4 letters long.  \n",
    "You have 3 warnings left. \n",
    "`\n",
    "<br>\n",
    "`------------  `\n",
    "<br>\n",
    "` \n",
    "You have 6 guesses left. \n",
    "Available letters: abcdefghijklmnopqrstuvwxyz \n",
    "Please guess a letter: `<span style=\"color:blue\">a</span><br>`\n",
    "Good guess: _ a_ _  \n",
    "`\n",
    "<br>\n",
    "`------------  `\n",
    "<br>\n",
    "` \n",
    "You have 6 guesses left. \n",
    "Available letters: bcdefghijklmnopqrstuvwxyz \n",
    "Please guess a letter: `<span style=\"color:blue\">a</span><br>`\n",
    "Oops! You've already guessed that letter. You have 2 warnings left:  \n",
    "_ a_ _  \n",
    "`\n",
    "<br>\n",
    "`------------  `\n",
    "<br>\n",
    "` \n",
    "You have 6 guesses left. \n",
    "Available letters: bcdefghijklmnopqrstuvwxyz \n",
    "Please guess a letter: `<span style=\"color:blue\">s</span><br>`\n",
    "Oops! That letter is not in my word. \n",
    "Please guess a letter: _ a_ _ \n",
    "`\n",
    "<br>\n",
    "`------------  `\n",
    "<br>\n",
    "` \n",
    "You have 5 guesses left. \n",
    "Available letters: bcdefghijklmnopqrtuvwxyz \n",
    "Please guess a letter: `<span style=\"color:blue\">\\$</span><br>`\n",
    "Oops! That is not a valid letter. You have 1 warnings left: _ a_ _  \n",
    "`\n",
    "<br>\n",
    "`------------  `\n",
    "<br>\n",
    "` \n",
    "You have 5 guesses left. \n",
    "Available letters: bcdefghijklmnopqrtuvwxyz \n",
    "Please guess a letter: `<span style=\"color:blue\">t</span><br>`\n",
    "Good guess: ta_ t  \n",
    "`\n",
    "<br>\n",
    "`------------  `\n",
    "<br>\n",
    "` \n",
    "You have 5 guesses left. \n",
    "Available letters: bcdefghijklmnopqrtuvwxyz \n",
    "Please guess a letter: `<span style=\"color:blue\">e</span><br>`\n",
    "Oops! That letter is not in my word: ta_ t \n",
    "`\n",
    "<br>\n",
    "`------------  `\n",
    "<br>\n",
    "` \n",
    "You have 3 guesses left. \n",
    "Available letters: bcdfghijklmnopqrtuvwxyz \n",
    "Please guess a letter: `<span style=\"color:blue\">e</span><br>`\n",
    "Oops! You've already guessed that letter. You have 0 warnings left:\n",
    "ta_ t  \n",
    "`\n",
    "<br>\n",
    "`------------  `\n",
    "<br>\n",
    "` \n",
    "You have 3 guesses left. \n",
    "Available letters: bcdfghijklmnopqrtuvwxyz \n",
    "Please guess a letter: `<span style=\"color:blue\">e</span><br>`\n",
    "Oops! You've already guessed that letter. You have no warnings left so you lose one guess: ta_ t  \n",
    "`\n",
    "<br>\n",
    "`------------  `\n",
    "<br>\n",
    "` \n",
    "You have 2 guesses left. \n",
    "Available letters: bcdfghijklnopquvwxyz \n",
    "Please guess a letter: `<span style=\"color:blue\">c</span><br>`\n",
    "Good guess: tact  \n",
    "`\n",
    "<br>\n",
    "`------------  `\n",
    "<br>\n",
    "` \n",
    "Congratulations, you won! \n",
    "Your total score for this game is: 6 \n",
    "`\n",
    "\n",
    "And the output of a **losing** game should look like this...\n",
    "\n",
    "`\n",
    "Loading word list from file... \n",
    "55900 words loaded. \n",
    "Welcome to the game Hangman! \n",
    "I am thinking of a word that is 4 letters long \n",
    "You have 3 warnings left. \n",
    "`\n",
    "<br>\n",
    "`------------  `\n",
    "<br>\n",
    "` \n",
    "You have 6 guesses left \n",
    "Available Letters: abcdefghijklmnopqrstuvwxyz \n",
    "Please guess a letter: `<span style=\"color:blue\">a</span><br>`\n",
    "Oops! That letter is not in my word: _ _ _ _ \n",
    "`\n",
    "<br>\n",
    "`------------  `\n",
    "<br>\n",
    "` \n",
    "You have 4 guesses left \n",
    "Available Letters: bcdefghijklmnopqrstuvwxyz \n",
    "Please guess a letter: `<span style=\"color:blue\">b</span><br>`\n",
    "Oops! That letter is not in my word: _ _ _ _ \n",
    "`\n",
    "<br>\n",
    "`------------  `\n",
    "<br>\n",
    "` \n",
    "You have 3 guesses left \n",
    "Available Letters: cdefghijklmnopqrstuvwxyz \n",
    "Please guess a letter: `<span style=\"color:blue\">c</span><br>`\n",
    "Oops! That letter is not in my word: _ _ _ _ \n",
    "`\n",
    "<br>\n",
    "`------------  `\n",
    "<br>\n",
    "` \n",
    "You have 2 guesses left \n",
    "Available Letters: defghijklmnopqrstuvwxyz \n",
    "Please guess a letter: `<span style=\"color:blue\">2</span><br>`\n",
    "Oops! That is not a valid letter. You have 2 warnings left: _ _ _ _  \n",
    "`\n",
    "<br>\n",
    "`------------  `\n",
    "<br>\n",
    "`      ­­­­­­­­­­­ \n",
    "You have 2 guesses left \n",
    "Available Letters: defghijklmnopqrstuvwxyz \n",
    "Please guess a letter: `<span style=\"color:blue\">d</span><br>`\n",
    "Oops! That letter is not in my word: _ _ _ _ \n",
    "`\n",
    "<br>\n",
    "`------------  `\n",
    "<br>\n",
    "` \n",
    "You have 1 guesses left \n",
    "Available Letters: efghijklmnopqrstuvwxyz \n",
    "Please guess a letter: `<span style=\"color:blue\">e</span><br>`\n",
    "Good guess: e_ _ e \n",
    "`\n",
    "<br>\n",
    "`------------  `\n",
    "<br>\n",
    "` \n",
    "You have 1 guesses left \n",
    "Available Letters: fghijklmnopqrstuvwxyz \n",
    "Please guess a letter: `<span style=\"color:blue\">f</span><br>`\n",
    "Oops! That letter is not in my word: e_ _ e \n",
    "`\n",
    "<br>\n",
    "`------------  `\n",
    "<br>\n",
    "` \n",
    "Sorry, you ran out of guesses. The word was else.\n",
    "`\n",
    "\n",
    "\n",
    "\n",
    "Once you have completed and tested your code (where you have manually provided the “secret” word, since knowing it helps you debug your code), you may want to try running against the computer"
   ]
  },
  {
   "cell_type": "code",
   "execution_count": null,
   "metadata": {
    "deletable": false,
    "nbgrader": {
     "checksum": "50eb367881c3f659d411703fe746fab4",
     "grade": true,
     "grade_id": "hangman-hangman",
     "locked": false,
     "points": 20,
     "schema_version": 1,
     "solution": true
    }
   },
   "outputs": [],
   "source": [
    "def hangman(secret_word):\n",
    "    '''\n",
    "    secret_word: string, the secret word to guess.\n",
    "    \n",
    "    Starts up an interactive game of Hangman.\n",
    "    \n",
    "    * At the start of the game, let the user know how many \n",
    "      letters the secret_word contains and how many guesses s/he starts with.\n",
    "      \n",
    "    * The user should start with 6 guesses\n",
    "\n",
    "    * Before each round, you should display to the user how many guesses\n",
    "      s/he has left and the letters that the user has not yet guessed.\n",
    "    \n",
    "    * Ask the user to supply one guess per round. Remember to make\n",
    "      sure that the user puts in a letter!\n",
    "    \n",
    "    * The user should receive feedback immediately after each guess \n",
    "      about whether their guess appears in the computer's word.\n",
    "\n",
    "    * After each guess, you should display to the user the \n",
    "      partially guessed word so far.\n",
    "    \n",
    "    Follows the other limitations detailed in the problem write-up.\n",
    "    '''\n",
    "    # YOUR CODE HERE\n",
    "    raise NotImplementedError()\n"
   ]
  },
  {
   "cell_type": "code",
   "execution_count": null,
   "metadata": {},
   "outputs": [],
   "source": [
    "# play against the computer\n",
    "secret_word = choose_word(wordlist)\n",
    "hangman(secret_word)"
   ]
  }
 ],
 "metadata": {
  "kernelspec": {
   "display_name": "Python 3",
   "language": "python",
   "name": "python3"
  },
  "language_info": {
   "codemirror_mode": {
    "name": "ipython",
    "version": 3
   },
   "file_extension": ".py",
   "mimetype": "text/x-python",
   "name": "python",
   "nbconvert_exporter": "python",
   "pygments_lexer": "ipython3",
   "version": "3.7.3"
  }
 },
 "nbformat": 4,
 "nbformat_minor": 1
}
