{
 "cells": [
  {
   "cell_type": "markdown",
   "metadata": {},
   "source": [
    "A rectangle is represented on a Cartesian plane by its bottom right hand corner (Rx, Ry) and its width, Rw and height, Rh. For this assignment, every rectangle is placed parallel to the x and y axes - so, Rw represents its span on the x axis and Rh, its span on the y axis.\n",
    "\n",
    "The goal is for you to determine if two rectangles intersect or not. If they do, you should also be able to return the rectangle (described similarly, by the above 4 parameters). "
   ]
  },
  {
   "cell_type": "markdown",
   "metadata": {},
   "source": [
    "Let us first describe a Rectangle data type."
   ]
  },
  {
   "cell_type": "code",
   "execution_count": 1,
   "metadata": {},
   "outputs": [],
   "source": [
    "class Rectangle:\n",
    "    \n",
    "    def __init__(self, Rx, Ry, Rw, Rh):\n",
    "        self.origin = (Rx, Ry)\n",
    "        self.width = Rw\n",
    "        self.height = Rh\n",
    "        \n",
    "    def rotate(self):\n",
    "        ### YOUR CODE HERE ###\n",
    "        temp = self.width\n",
    "        self.width = self.height\n",
    "        self.height = temp\n",
    "        ###      END       ###"
   ]
  },
  {
   "cell_type": "markdown",
   "metadata": {},
   "source": [
    "Now test your rotate method:"
   ]
  },
  {
   "cell_type": "code",
   "execution_count": 2,
   "metadata": {},
   "outputs": [],
   "source": [
    "rect1 = Rectangle (3, 1, 10, 5)"
   ]
  },
  {
   "cell_type": "code",
   "execution_count": 3,
   "metadata": {},
   "outputs": [
    {
     "data": {
      "image/png": "[encoded data removed]",
      "text/plain": [
       "<Figure size 432x288 with 1 Axes>"
      ]
     },
     "metadata": {
      "needs_background": "light"
     },
     "output_type": "display_data"
    }
   ],
   "source": [
    "%matplotlib inline\n",
    "import matplotlib.pyplot as plt\n",
    "from matplotlib.patches import Rectangle as mRect\n",
    "\n",
    "\n",
    "fig = plt.figure()\n",
    "ax = plt.axes()\n",
    "ax.set_xlim(0, 15)\n",
    "ax.set_ylim(0, 15)\n",
    "\n",
    "ax.add_patch(mRect(rect1.origin, rect1.width, rect1.height, linewidth=2,edgecolor='r',facecolor='none'))\n",
    "\n",
    "plt.show()\n"
   ]
  },
  {
   "cell_type": "code",
   "execution_count": 4,
   "metadata": {},
   "outputs": [],
   "source": [
    "rect1.rotate()"
   ]
  },
  {
   "cell_type": "code",
   "execution_count": 5,
   "metadata": {},
   "outputs": [
    {
     "name": "stderr",
     "output_type": "stream",
     "text": [
      "/opt/shared/anaconda3/lib/python3.7/site-packages/matplotlib/figure.py:98: MatplotlibDeprecationWarning: \n",
      "Adding an axes using the same arguments as a previous axes currently reuses the earlier instance.  In a future version, a new instance will always be created and returned.  Meanwhile, this warning can be suppressed, and the future behavior ensured, by passing a unique label to each axes instance.\n",
      "  \"Adding an axes using the same arguments as a previous axes \"\n"
     ]
    },
    {
     "data": {
      "image/png": "[encoded data removed]",
      "text/plain": [
       "<Figure size 432x288 with 1 Axes>"
      ]
     },
     "metadata": {
      "needs_background": "light"
     },
     "output_type": "display_data"
    }
   ],
   "source": [
    "plt.cla()\n",
    "\n",
    "ax = plt.axes()\n",
    "ax.set_xlim(0, 15)\n",
    "ax.set_ylim(0, 15)\n",
    "ax.add_patch(mRect(rect1.origin, rect1.width, rect1.height, linewidth=2,edgecolor='r',facecolor='none'))\n",
    "\n",
    "plt.show()"
   ]
  },
  {
   "cell_type": "code",
   "execution_count": null,
   "metadata": {},
   "outputs": [],
   "source": []
  },
  {
   "cell_type": "code",
   "execution_count": null,
   "metadata": {},
   "outputs": [],
   "source": []
  }
 ],
 "metadata": {
  "kernelspec": {
   "display_name": "Python 3",
   "language": "python",
   "name": "python3"
  },
  "language_info": {
   "codemirror_mode": {
    "name": "ipython",
    "version": 3
   },
   "file_extension": ".py",
   "mimetype": "text/x-python",
   "name": "python",
   "nbconvert_exporter": "python",
   "pygments_lexer": "ipython3",
   "version": "3.7.3"
  }
 },
 "nbformat": 4,
 "nbformat_minor": 2
}
