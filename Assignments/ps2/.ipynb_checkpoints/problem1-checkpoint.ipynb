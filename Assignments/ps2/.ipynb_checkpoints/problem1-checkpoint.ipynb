{
 "cells": [
  {
   "cell_type": "markdown",
   "metadata": {},
   "source": [
    "Before you turn this problem in, make sure everything runs as expected. First, **restart the kernel** (in the menubar, select Kernel$\\rightarrow$Restart) and then **run all cells** (in the menubar, select Cell$\\rightarrow$Run All).\n",
    "\n",
    "Make sure you fill in any place that says `YOUR CODE HERE` or \"YOUR ANSWER HERE\", as well as your name and collaborators below:"
   ]
  },
  {
   "cell_type": "code",
   "execution_count": null,
   "metadata": {},
   "outputs": [],
   "source": [
    "NAME = \"\"\n",
    "COLLABORATORS = \"\""
   ]
  },
  {
   "cell_type": "markdown",
   "metadata": {},
   "source": [
    "---"
   ]
  },
  {
   "cell_type": "markdown",
   "metadata": {
    "deletable": false,
    "editable": false,
    "nbgrader": {
     "checksum": "824673d72f75dd6eaeebf63fcfb0b70b",
     "grade": false,
     "grade_id": "cell-a2951856dcae4c4c",
     "locked": true,
     "schema_version": 1,
     "solution": false
    }
   },
   "source": [
    "## Part A (5 points)\n",
    "\n",
    "You have graduated from Plaksha and now have a great data science job! You now want to buy a flat.  As housing prices are very high in say Bangalore or Gurgaon, you realize you are going to have to save for several years before you can afford to make the down payment on a house. In Part A, we are going to determine how long it will take you to save enough money to make the down payment given the following assumptions:\n",
    "\n",
    "1. Call the cost of your dream home `total_cost`.\n",
    "2. Call the portion of the cost needed for a down payment `portion_down_payment`. For simplicity, assume that `portion_down_payment` = 0.25 (25%).\n",
    "3. Call the amount that you have saved thus far `current_savings`. You start with a current savings of Rs 0.\n",
    "4. Assume that you invest your current savings wisely, with an annual return of `r` (in other words,at the end of each month, you receive an additional `current_savings*r/12` funds to put into your savings – the 12 is because `r` is an annual rate). Assume that your investments earn a return of `r = 0.04` (4%).\n",
    "5. Assume your annual salary is `annual_salary`.\n",
    "6. Assume you are going to dedicate a certain amount of your salary each month to saving for the down payment. Call that `portion_saved`. This variable should be in decimal form (i.e. 0.1 for 10%). \n",
    "7. At the end of each month, your savings will be increased by the return on your investment, plus a percentage of your monthly salary (annual salary / 12).\n",
    "\n",
    "Write a program to calculate how many months it will take you to save up enough money for a down\n",
    "payment. You will want your main variables to be floats, so you should cast user inputs to floats\n",
    "\n",
    "Your program should ask the user to enter the following variables:\n",
    "1. The starting annual salary (annual_salary)\n",
    "2. The portion of salary to be saved (portion_saved)\n",
    "3. The cost of your dream home (total_cost)\n"
   ]
  },
  {
   "cell_type": "code",
   "execution_count": null,
   "metadata": {
    "deletable": false,
    "nbgrader": {
     "checksum": "fc4cbc7588212f4c0ecc27845e7fa31a",
     "grade": true,
     "grade_id": "home",
     "locked": false,
     "points": 5,
     "schema_version": 1,
     "solution": true
    }
   },
   "outputs": [],
   "source": [
    "# YOUR CODE HERE\n",
    "raise NotImplementedError()"
   ]
  },
  {
   "cell_type": "markdown",
   "metadata": {
    "deletable": false,
    "editable": false,
    "nbgrader": {
     "checksum": "6e1146e4218f3b71489699cef98f5678",
     "grade": false,
     "grade_id": "cell-2e0fbb9314947dad",
     "locked": true,
     "schema_version": 1,
     "solution": false
    }
   },
   "source": [
    "## Part B (2 point)\n",
    "\n",
    "In Part A, we unrealistically assumed that your salary didn’t change.  But you are a Plaksha graduate, and clearly you are going to be worth more to your company over time! So we are going to build on your solution to Part A by factoring in a raise every six months. \n",
    "Copy your solution to Part A (as we are going to reuse much of that machinery).  Modify your program to include the following\n",
    "1. Have the user input a semi-annual salary raise semi_annual_raise (as a decimal percentage)\n",
    "2. After the 6th month, increase your salary by that percentage.  Do the same after the 12th month, the 18  month, and so on. \n",
    "Write a program to calculate how many months it will take you save up enough money for a down payment.  Like before, assume that your investments earn a return of r = 0.04 (or 4%) and the required down payment percentage is 0.25 (or 25%).  Have the user enter the following variables:\n",
    "\n",
    "1. The starting annual salary (annual_salary)\n",
    "2. The percentage of salary to be saved (portion_saved)\n",
    "3. The cost of your dream home (total_cost)\n",
    "4. The semi­annual salary raise (semi_annual_raise)"
   ]
  },
  {
   "cell_type": "code",
   "execution_count": null,
   "metadata": {
    "deletable": false,
    "nbgrader": {
     "checksum": "f49541374fbd9efc872528ac917ae9c3",
     "grade": true,
     "grade_id": "home_inc",
     "locked": false,
     "points": 2,
     "schema_version": 1,
     "solution": true
    }
   },
   "outputs": [],
   "source": [
    "# YOUR CODE HERE\n",
    "raise NotImplementedError()"
   ]
  },
  {
   "cell_type": "markdown",
   "metadata": {
    "deletable": false,
    "editable": false,
    "nbgrader": {
     "checksum": "727ed9cb55935d40f18bc1c8bf18645f",
     "grade": false,
     "grade_id": "cell-0ad4b5a46a7684e0",
     "locked": true,
     "schema_version": 1,
     "solution": false
    }
   },
   "source": [
    "## Part C (5 point)\n",
    "\n",
    "\n",
    "\n",
    "In Part B, you had a chance to explore how both the percentage of your salary that you save each month and your annual raise affect how long it takes you to save for a down payment.  This is nice, but suppose you want to set a particular goal, e.g. to be able to afford the down payment in three years.\n",
    "How much should you save each month to achieve this?  In this problem, you are going to write a \n",
    "program to answer that question.  To simplify things, assume:\n",
    "\n",
    "1. Your semi­annual raise is .07 (7%)\n",
    "2. Your investments have an annual return of 0.04 (4%)  \n",
    "3. The down payment is 0.25 (25%) of the cost of the house \n",
    "4. The cost of the house that you are saving for is Rs 1M.\n",
    "\n",
    "You are now going to try to find the best rate of savings to achieve a down payment on a Rs 1M house in 36 months. Since hitting this exactly is a challenge, we simply want your savings to be within Rs 100 of the required down payment. \n",
    "Write a program to calculate the best savings rate, as a function of your starting salary. You should use bisection search to help you do this efficiently. You should keep track of the number of steps it takes your bisections search to finish. You should be able to reuse some of the code you wrote for part B in this problem.  \n",
    "Because we are searching for a value that is in principle a float, we are going to limit ourselves to two decimals of accuracy (i.e., we may want to save at 7.04\\% or 0.0704 in decimal – but we are not going to worry about the difference between 7.041\\% and 7.039\\%).  This means we can search for an integer between 0 and 10000 (using integer division), and then convert it to a decimal percentage (using float division) to use when we are calculating the current_savings after 36 months. By using this range, there are only a finite number of numbers that we are searching over, as opposed to the infinite number of decimals between 0 and 1. This range will help prevent infinite loops. The reason we use 0 to 10000 is to account for two additional decimal places in the range 0\\% to 100\\%. Your code should print out a decimal (e.g. 0.0704 for 7.04\\%).\n",
    "Try different inputs for your starting salary, and see how the percentage you need to save changes to reach your desired down payment.  Also keep in mind it may not be possible for to save a down payment in a year and a half for some salaries. In this case your function should notify the user that it is not possible to save for the down payment in 36 months with a print statement. \n",
    "Note: There are multiple right ways to implement bisection search/number of steps so your\n",
    "results may not perfectly match those of the test case. \n",
    "\n",
    "Test Cases:\n",
    "Test Case 1 \n",
    ">>>  \n",
    "Enter the starting salary: 150000\n",
    "Best savings rate: 0.4411  \n",
    "Steps in bisection search: 12 \n",
    ">>>\n",
    "4\n",
    "Test Case 2 \n",
    ">>>  \n",
    "Enter the starting salary: 300000\n",
    "Best savings rate: 0.2206 \n",
    "Steps in bisection search: 9 \n",
    ">>>\n",
    "Test Case 3 \n",
    ">>>  \n",
    "Enter the starting salary: 10000\n",
    "It is not possible to pay the down payment in three years.\n",
    ">>>"
   ]
  },
  {
   "cell_type": "code",
   "execution_count": null,
   "metadata": {
    "deletable": false,
    "nbgrader": {
     "checksum": "6bbf05d9a919389ec2a18b2afeb18141",
     "grade": true,
     "grade_id": "home_bisect",
     "locked": false,
     "points": 5,
     "schema_version": 1,
     "solution": true
    }
   },
   "outputs": [],
   "source": [
    "# YOUR CODE HERE\n",
    "raise NotImplementedError()"
   ]
  }
 ],
 "metadata": {
  "kernelspec": {
   "display_name": "Python 3",
   "language": "python",
   "name": "python3"
  },
  "language_info": {
   "codemirror_mode": {
    "name": "ipython",
    "version": 3
   },
   "file_extension": ".py",
   "mimetype": "text/x-python",
   "name": "python",
   "nbconvert_exporter": "python",
   "pygments_lexer": "ipython3",
   "version": "3.7.3"
  }
 },
 "nbformat": 4,
 "nbformat_minor": 1
}
