{
 "cells": [
  {
   "cell_type": "markdown",
   "metadata": {
    "slideshow": {
     "slide_type": "slide"
    }
   },
   "source": [
    "# Introduction to Computation and Python Programming\n",
    "\n",
    "## Lecture 6"
   ]
  },
  {
   "cell_type": "markdown",
   "metadata": {
    "slideshow": {
     "slide_type": "slide"
    }
   },
   "source": [
    "### Today\n",
    "----------\n",
    "\n",
    "- Object Oriented Programming in Python\n",
    "- Inheritance"
   ]
  },
  {
   "cell_type": "markdown",
   "metadata": {
    "slideshow": {
     "slide_type": "slide"
    }
   },
   "source": [
    "### Objects\n",
    "\n",
    "- Python has many different kinds of data\n",
    "    - 1234\n",
    "    - 3.14159\n",
    "    - \"Puppet\"\n",
    "    - ['red', 'green', 'blue']\n",
    "    - {'SVK': 'Slovakia', 'POL': 'Poland', 'AUS': 'Austria'}\n",
    "- Each is an **object** and each object has:\n",
    "    - a **type**\n",
    "    - an internal **data representation** (primitive or composite)\n",
    "    - a set of procedures for **interaction** with the object\n",
    "- An object is an **instance** of a **type**:\n",
    "    - 1234 is an instance of *int*\n",
    "    - \"Puppet\" is an instance of *string*\n",
    "    "
   ]
  },
  {
   "cell_type": "markdown",
   "metadata": {
    "slideshow": {
     "slide_type": "slide"
    }
   },
   "source": [
    "### Object Oriented Programming\n",
    "\n",
    "- An **Abstract Data Type** is a set of objects and operations on those objects\n",
    "- It has **data attributes** and\n",
    "- **Operations** to manipulate that data\n",
    "- Can be passed from one part of a program to another\n",
    "- Specifications define an **interface** between the ADT and the rest of the program - an **abstraction barrier**"
   ]
  },
  {
   "cell_type": "markdown",
   "metadata": {
    "slideshow": {
     "slide_type": "slide"
    }
   },
   "source": [
    "### Classes\n",
    "\n",
    "- Abstract Data Types (ADTs) are implemented used **classes**\n",
    "- see code\n",
    "- A function defined within a class definition is called a **method** and the methods are called the **method attributes** of the class\n",
    "- Classes support two kinds of operations:\n",
    "    - **Instantiation** - to create a new instance of the class\n",
    "    - **Attribute references** - using the *dot notation* \n",
    "- A class also has **data attributes** - e.g. in IntSet, vals is a data attribute"
   ]
  },
  {
   "cell_type": "markdown",
   "metadata": {
    "slideshow": {
     "slide_type": "slide"
    }
   },
   "source": [
    "### Class vs Object\n",
    "\n",
    "|Class definition of an object type| vs Instance of a class|\n",
    "|---|---|\n",
    "|class name is the **type** <br> *class Coordinate(object)*<br> | instance is **one specific** object<br>*coord = Coordinate(1, 2)*|\n",
    "|class is defined generically <br> - use *self* to refer to some instance while defining the class <br> *(self.x - self.y)\\*\\*2* <br> - *self* is a parameter to methods in class definiton | data attribute values vary between instances <br> *c1 = Coordinate(1,2)* <br> *c2 = Coordinate(3,4)* <br> - *c1* and *c2* have different data attribute values *c1.x* and *c2.x* because they are different objects|\n",
    "|class defines data and methods **common across all instances** | instance has the **structure of the class**|"
   ]
  },
  {
   "cell_type": "markdown",
   "metadata": {
    "slideshow": {
     "slide_type": "slide"
    }
   },
   "source": [
    "### Object Oriented Programming\n",
    "\n",
    "- Abstract Data Types as organizational entities in the program (data with associated behavior)\n",
    "- Think of the program as a **collection of types** rather than a collection of functions\n",
    "- Programming is a process of composing **abstractions**\n",
    "- Objects mimic real life - e.g. Kane Williamson, Ross Taylor, Trent Boult are all grouped as CricketPlayers; Mookie Betts, Xander Bogaerts, JD Martinez are BaseballPlayers"
   ]
  },
  {
   "cell_type": "markdown",
   "metadata": {
    "slideshow": {
     "slide_type": "slide"
    }
   },
   "source": [
    "### Attributes (again)\n",
    "\n",
    "- **Data Attributes**\n",
    "    - how can you represent your object with data?\n",
    "    - **what it is**\n",
    "    - for a Coordinate: x and y values\n",
    "    - for a Player: Age, Position, Average...\n",
    "- **Procedural Attributes**\n",
    "    - how can someone interact with the object?\n",
    "    - **what it does**\n",
    "    - for a Coordinate: find distance between two\n",
    "    - for a Player: predict performance in a game"
   ]
  },
  {
   "cell_type": "markdown",
   "metadata": {
    "slideshow": {
     "slide_type": "slide"
    }
   },
   "source": [
    "### Special methods\n",
    "\n",
    "- *\\_\\_init\\_\\_*, also called the constructor, is responsible for initialization|\n",
    "- *\\_\\_str\\_\\_* is called when the print method is used on objects of the class\n",
    "- *\\_\\_str\\_\\_* is also called when an object is converted to a string using the *str* method\n",
    "- Other special methods include *\\_\\_hash\\_\\_*, *\\_\\_eq\\_\\_* etc.\n",
    "- getters and setters should be used outside of class to access data attributes\n",
    "    - in example below: use a.getName rather than a.name:\n",
    "        - good style\n",
    "        - easy to maintain code\n",
    "        - prevents bugs\n",
    "- Python does not do a good job of information hiding\n",
    "    - allows you to access data from outside class definition e.g. *print (a.name)* or even worse, *a.name = 'Lord Hobo'* \n",
    "    - even allows you to define new attributes from outside e.g. a.height = 6\n",
    "    - it is **not recommended** to do any of these"
   ]
  },
  {
   "cell_type": "markdown",
   "metadata": {
    "slideshow": {
     "slide_type": "slide"
    }
   },
   "source": [
    "### Another class example\n",
    "\n",
    "see code"
   ]
  },
  {
   "cell_type": "markdown",
   "metadata": {
    "slideshow": {
     "slide_type": "slide"
    }
   },
   "source": [
    "### Hierarchies\n",
    "\n",
    "![hierarchies](diagrams/hierarchy.svg)\n",
    "\n",
    "- **parent** class or **superclass**\n",
    "- **child** class or **subclass**\n",
    "    - **inherits** all data and behavior of parent class\n",
    "    - **add** more **info**\n",
    "    - **add** more **behavior**\n",
    "    - **override** behavior\n",
    "- Multiple levels of inheritance are possible"
   ]
  },
  {
   "cell_type": "markdown",
   "metadata": {
    "slideshow": {
     "slide_type": "slide"
    }
   },
   "source": [
    "### Object Oriented Programming\n",
    "\n",
    "- create your own **class hierarchies**\n",
    "- organize **information**\n",
    "- **division** of work\n",
    "- access information in a **consistent** manner\n",
    "- add **layers** of complexity\n",
    "- like functions, classes are a mechnanism for **decomposition** and **abstraction**"
   ]
  }
 ],
 "metadata": {
  "celltoolbar": "Slideshow",
  "kernelspec": {
   "display_name": "Python 3",
   "language": "python",
   "name": "python3"
  },
  "language_info": {
   "codemirror_mode": {
    "name": "ipython",
    "version": 3
   },
   "file_extension": ".py",
   "mimetype": "text/x-python",
   "name": "python",
   "nbconvert_exporter": "python",
   "pygments_lexer": "ipython3",
   "version": "3.7.3"
  }
 },
 "nbformat": 4,
 "nbformat_minor": 2
}
