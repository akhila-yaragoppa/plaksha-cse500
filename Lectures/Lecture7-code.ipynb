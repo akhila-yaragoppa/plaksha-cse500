{
 "cells": [
  {
   "cell_type": "markdown",
   "metadata": {},
   "source": [
    "### Timing"
   ]
  },
  {
   "cell_type": "code",
   "execution_count": 5,
   "metadata": {},
   "outputs": [
    {
     "name": "stdout",
     "output_type": "stream",
     "text": [
      "t = 29.899319221 : 7.373200000060365e-05 s,\n"
     ]
    },
    {
     "data": {
      "text/plain": [
       "'\\ntime.process_time() → float\\nReturn the value (in fractional seconds) of the sum of the system and user CPU time of the current process. \\nIt does not include time elapsed during sleep. It is process-wide by definition. \\nThe reference point of the returned value is undefined, so that only the difference between the results of consecutive calls is valid.\\n'"
      ]
     },
     "execution_count": 5,
     "metadata": {},
     "output_type": "execute_result"
    }
   ],
   "source": [
    "import time\n",
    "\n",
    "def c_to_f(c):\n",
    "    return c*9/5 + 32\n",
    "\n",
    "t0 = time.process_time()\n",
    "c_to_f(100000)\n",
    "t1 = time.process_time() - t0\n",
    "print(\"t =\", t0, \":\", t1, \"s,\")\n",
    "\n",
    "\"\"\"\n",
    "time.process_time() → float\n",
    "Return the value (in fractional seconds) of the sum of the system and user CPU time of the current process. \n",
    "It does not include time elapsed during sleep. It is process-wide by definition. \n",
    "The reference point of the returned value is undefined, so that only the difference between the results of consecutive calls is valid.\n",
    "\"\"\""
   ]
  },
  {
   "cell_type": "markdown",
   "metadata": {},
   "source": [
    "### Counting Operations"
   ]
  },
  {
   "cell_type": "code",
   "execution_count": 9,
   "metadata": {},
   "outputs": [],
   "source": [
    "def f(x):\n",
    "   \"\"\"Assume x is an int > 0\"\"\"\n",
    "   ans = 0\n",
    "   #Loop that takes constant time\n",
    "   for i in range(1000):\n",
    "      ans += 1\n",
    "   print('Number of additions so far', ans)\n",
    "   #Loop that takes time x\n",
    "   for i in range(x):\n",
    "      ans += 1\n",
    "   print('Number of additions so far', ans)\n",
    "   #Nested loops take time x**2\n",
    "   for i in range(x):\n",
    "      for j in range(x):\n",
    "         ans += 1\n",
    "         ans += 1\n",
    "   print('Number of additions so far', ans)\n",
    "   return ans"
   ]
  },
  {
   "cell_type": "code",
   "execution_count": 10,
   "metadata": {},
   "outputs": [
    {
     "name": "stdout",
     "output_type": "stream",
     "text": [
      "Number of additions so far 1000\n",
      "Number of additions so far 1010\n",
      "Number of additions so far 1210\n"
     ]
    },
    {
     "data": {
      "text/plain": [
       "1210"
      ]
     },
     "execution_count": 10,
     "metadata": {},
     "output_type": "execute_result"
    }
   ],
   "source": [
    "f(10)"
   ]
  },
  {
   "cell_type": "code",
   "execution_count": 11,
   "metadata": {},
   "outputs": [
    {
     "name": "stdout",
     "output_type": "stream",
     "text": [
      "Number of additions so far 1000\n",
      "Number of additions so far 2000\n",
      "Number of additions so far 2002000\n"
     ]
    },
    {
     "data": {
      "text/plain": [
       "2002000"
      ]
     },
     "execution_count": 11,
     "metadata": {},
     "output_type": "execute_result"
    }
   ],
   "source": [
    "f(1000)"
   ]
  },
  {
   "cell_type": "code",
   "execution_count": null,
   "metadata": {},
   "outputs": [],
   "source": [
    "def search(L, e):\n",
    "    for element in L:\n",
    "        if element == e:\n",
    "            return element\n",
    "    return None"
   ]
  }
 ],
 "metadata": {
  "kernelspec": {
   "display_name": "Python 3",
   "language": "python",
   "name": "python3"
  },
  "language_info": {
   "codemirror_mode": {
    "name": "ipython",
    "version": 3
   },
   "file_extension": ".py",
   "mimetype": "text/x-python",
   "name": "python",
   "nbconvert_exporter": "python",
   "pygments_lexer": "ipython3",
   "version": "3.8.2"
  }
 },
 "nbformat": 4,
 "nbformat_minor": 2
}
