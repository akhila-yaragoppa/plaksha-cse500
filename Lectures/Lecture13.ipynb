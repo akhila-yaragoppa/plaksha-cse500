{
 "cells": [
  {
   "cell_type": "markdown",
   "metadata": {
    "slideshow": {
     "slide_type": "slide"
    }
   },
   "source": [
    "# Introduction to Computation and Python Programming\n",
    "\n",
    "## Lecture 13"
   ]
  },
  {
   "cell_type": "markdown",
   "metadata": {
    "slideshow": {
     "slide_type": "slide"
    }
   },
   "source": [
    "### Today\n",
    "----------\n",
    "\n",
    "- General Software Engineering Topics"
   ]
  },
  {
   "cell_type": "markdown",
   "metadata": {
    "slideshow": {
     "slide_type": "slide"
    }
   },
   "source": [
    "### What does a computer scientist do\n",
    "\n",
    "#### The three As of Computational Thinking\n",
    "\n",
    "1. **Abstraction** \n",
    "    * Choose the right abstractions\n",
    "    * Operate in multiple layers of abstraction simultaneously\n",
    "    * Defining the relationship between the abstraction layers\n",
    "    \n",
    "2. **Automation**\n",
    "    * Think about mechanizing the abstractions\n",
    "    * Mechanization is helped by\n",
    "        - precise and exact notations and models\n",
    "        - a \"machine\" that can interpret and manipulate these notations and models\n",
    "3. **Algorithms**\n",
    "    * Language for describing automated processes\n",
    "    * Allows abstraction of details\n",
    "    * Language for communicating ideas and processes"
   ]
  },
  {
   "cell_type": "markdown",
   "metadata": {
    "slideshow": {
     "slide_type": "slide"
    }
   },
   "source": [
    "### Key takeaways\n",
    "\n",
    "- represent knowledge with **data structures**\n",
    "- **iteration and recursion** as computational metaphors\n",
    "- **abstraction** of procedures and types\n",
    "- **organize and modularize** systems using object classes and methods\n",
    "- different classes of **algorithms**, searching and sorting\n",
    "- **complexity** of algorithms"
   ]
  },
  {
   "cell_type": "code",
   "execution_count": null,
   "metadata": {},
   "outputs": [],
   "source": []
  }
 ],
 "metadata": {
  "celltoolbar": "Slideshow",
  "kernelspec": {
   "display_name": "Python 3",
   "language": "python",
   "name": "python3"
  },
  "language_info": {
   "codemirror_mode": {
    "name": "ipython",
    "version": 3
   },
   "file_extension": ".py",
   "mimetype": "text/x-python",
   "name": "python",
   "nbconvert_exporter": "python",
   "pygments_lexer": "ipython3",
   "version": "3.8.2"
  }
 },
 "nbformat": 4,
 "nbformat_minor": 2
}
