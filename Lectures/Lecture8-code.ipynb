{
 "cells": [
  {
   "cell_type": "markdown",
   "metadata": {},
   "source": [
    "### Merge Sort"
   ]
  },
  {
   "cell_type": "code",
   "execution_count": 1,
   "metadata": {},
   "outputs": [],
   "source": [
    "def merge(left, right, compare):\n",
    "    \"\"\"Assumes left and right are sorted lists and\n",
    "         compare defines an ordering on the elements.\n",
    "       Returns a new sorted (by compare) list containing the\n",
    "         same elements as (left + right) would contain.\"\"\"\n",
    "    \n",
    "    result = []\n",
    "    i,j = 0, 0\n",
    "    while i < len(left) and j < len(right):\n",
    "        if compare(left[i], right[j]):\n",
    "            result.append(left[i])\n",
    "            i += 1\n",
    "        else:\n",
    "            result.append(right[j])\n",
    "            j += 1\n",
    "    while (i < len(left)):\n",
    "        result.append(left[i])\n",
    "        i += 1\n",
    "    while (j < len(right)):\n",
    "        result.append(right[j])\n",
    "        j += 1\n",
    "    return result\n",
    "\n",
    "def mergeSort(L, compare = lambda x, y: x < y):\n",
    "    \"\"\"Assumes L is a list, compare defines an ordering\n",
    "         on elements of L\n",
    "       Returns a new sorted list with the same elements as L\"\"\"\n",
    "    if len(L) < 2:\n",
    "        return L[:]\n",
    "    else:\n",
    "        middle = len(L)//2\n",
    "        left = mergeSort(L[:middle], compare)\n",
    "        right = mergeSort(L[middle:], compare)\n",
    "        return merge(left, right, compare)"
   ]
  },
  {
   "cell_type": "code",
   "execution_count": 2,
   "metadata": {},
   "outputs": [
    {
     "name": "stdout",
     "output_type": "stream",
     "text": [
      "[1, 2, 3, 4, 5] [5, 4, 3, 2, 1]\n"
     ]
    }
   ],
   "source": [
    "L = [2, 1, 4, 5, 3]\n",
    "print(mergeSort(L), mergeSort(L, lambda x, y: x > y))"
   ]
  },
  {
   "cell_type": "code",
   "execution_count": 1,
   "metadata": {},
   "outputs": [
    {
     "data": {
      "text/plain": [
       "343"
      ]
     },
     "execution_count": 1,
     "metadata": {},
     "output_type": "execute_result"
    }
   ],
   "source": [
    "def cube(n):\n",
    "    return n*n*n\n",
    "\n",
    "g = lambda n: n*n*n\n",
    "\n",
    "cube(7)\n",
    "g(7)\n",
    "\n"
   ]
  },
  {
   "cell_type": "code",
   "execution_count": 4,
   "metadata": {},
   "outputs": [
    {
     "data": {
      "text/plain": [
       "[2, 12, 42]"
      ]
     },
     "execution_count": 4,
     "metadata": {},
     "output_type": "execute_result"
    }
   ],
   "source": [
    "l = [2, 5,75, 33, 12, 42, 11, 1]\n",
    "\n",
    "list(map(lambda x: x**2, l))\n",
    "\n",
    "list(filter(lambda x: x%2 == 0, l))"
   ]
  },
  {
   "cell_type": "code",
   "execution_count": 2,
   "metadata": {},
   "outputs": [],
   "source": [
    "# Sorting in Python\n",
    "\n",
    "L = [3, 5, 2]\n",
    "D = {'a': 12, 'c':5, 'b':'dog'}\n"
   ]
  },
  {
   "cell_type": "code",
   "execution_count": 4,
   "metadata": {},
   "outputs": [
    {
     "name": "stdout",
     "output_type": "stream",
     "text": [
      "[2, 3, 5]\n"
     ]
    }
   ],
   "source": [
    "print(sorted(L))"
   ]
  },
  {
   "cell_type": "code",
   "execution_count": 5,
   "metadata": {},
   "outputs": [
    {
     "name": "stdout",
     "output_type": "stream",
     "text": [
      "[3, 5, 2]\n"
     ]
    }
   ],
   "source": [
    "print(L)"
   ]
  },
  {
   "cell_type": "code",
   "execution_count": 6,
   "metadata": {},
   "outputs": [],
   "source": [
    "L.sort()"
   ]
  },
  {
   "cell_type": "code",
   "execution_count": 7,
   "metadata": {},
   "outputs": [
    {
     "name": "stdout",
     "output_type": "stream",
     "text": [
      "[2, 3, 5]\n"
     ]
    }
   ],
   "source": [
    "print(L)"
   ]
  },
  {
   "cell_type": "code",
   "execution_count": 8,
   "metadata": {},
   "outputs": [
    {
     "name": "stdout",
     "output_type": "stream",
     "text": [
      "['a', 'b', 'c']\n"
     ]
    }
   ],
   "source": [
    "print(sorted(D))"
   ]
  },
  {
   "cell_type": "code",
   "execution_count": 3,
   "metadata": {},
   "outputs": [
    {
     "ename": "AttributeError",
     "evalue": "'dict' object has no attribute 'sort'",
     "output_type": "error",
     "traceback": [
      "\u001b[0;31m---------------------------------------------------------------------------\u001b[0m",
      "\u001b[0;31mAttributeError\u001b[0m                            Traceback (most recent call last)",
      "\u001b[0;32m<ipython-input-3-4aa00a798c66>\u001b[0m in \u001b[0;36m<module>\u001b[0;34m\u001b[0m\n\u001b[0;32m----> 1\u001b[0;31m \u001b[0mD\u001b[0m\u001b[0;34m.\u001b[0m\u001b[0msort\u001b[0m\u001b[0;34m(\u001b[0m\u001b[0;34m)\u001b[0m\u001b[0;34m\u001b[0m\u001b[0;34m\u001b[0m\u001b[0m\n\u001b[0m",
      "\u001b[0;31mAttributeError\u001b[0m: 'dict' object has no attribute 'sort'"
     ]
    }
   ],
   "source": [
    "D.sort()"
   ]
  },
  {
   "cell_type": "code",
   "execution_count": 4,
   "metadata": {},
   "outputs": [
    {
     "name": "stdout",
     "output_type": "stream",
     "text": [
      "[(3, 2, 1, 0), [1, 2, 3], 'abc']\n"
     ]
    }
   ],
   "source": [
    "### Both list.sort and sorted functions can have two additional parameters key and compare\n",
    "L = [[1,2,3], (3,2,1,0), 'abc']\n",
    "print(sorted(L, key = len, reverse = True))"
   ]
  },
  {
   "cell_type": "code",
   "execution_count": 5,
   "metadata": {},
   "outputs": [],
   "source": [
    "# Notice that both provide *stable sort* - if equal, relative ordering is preserved"
   ]
  },
  {
   "cell_type": "markdown",
   "metadata": {},
   "source": [
    "## Hashing"
   ]
  },
  {
   "cell_type": "code",
   "execution_count": 7,
   "metadata": {},
   "outputs": [],
   "source": [
    "class intDict(object):\n",
    "    \"\"\"A dictionary with integer keys\"\"\"\n",
    "    \n",
    "    def __init__(self, numBuckets):\n",
    "        \"\"\"Create an empty dictionary\"\"\"\n",
    "        self.buckets = []\n",
    "        self.numBuckets = numBuckets\n",
    "        for i in range(numBuckets):\n",
    "            self.buckets.append([])\n",
    "            \n",
    "    def addEntry(self, key, dictVal):\n",
    "        \"\"\"Assumes key an int. Adds an entry.\"\"\"\n",
    "        hashBucket = self.buckets[key%self.numBuckets]\n",
    "        for i in range(len(hashBucket)):\n",
    "            if hashBucket[i][0] == key:\n",
    "                hashBucket[i] = (key, dictVal)\n",
    "                return\n",
    "        hashBucket.append((key, dictVal))\n",
    "        \n",
    "    def getValue(self, key):\n",
    "        \"\"\"Assumes key an int.\n",
    "           Returns value associated with key.\"\"\"\n",
    "        hashBucket = self.buckets[key%self.numBuckets]\n",
    "        for e in hashBucket:\n",
    "            if e[0] == key:\n",
    "                return e[1]\n",
    "        return None\n",
    "    \n",
    "    def __str__(self):\n",
    "        result = '{'\n",
    "        for b in self.buckets:\n",
    "            for e in b:\n",
    "                result = result + str(e[0]) + ':' + str(e[1]) + ','\n",
    "        return result[:-1] + '}'\n",
    "    \n"
   ]
  },
  {
   "cell_type": "code",
   "execution_count": 8,
   "metadata": {},
   "outputs": [
    {
     "name": "stdout",
     "output_type": "stream",
     "text": [
      "The value of the intDict is:\n",
      "{75225:2,4967:8,38628:13,4018:0,99524:15,27054:12,32903:7,82220:9,31817:1,87629:3,32549:10,65325:14,59018:16,99445:4,87800:6,86253:18,75561:19,72179:11,50930:5,12374:17}\n",
      "\n",
      " The buckets are:\n",
      "   [(75225, 2)]\n",
      "   []\n",
      "   []\n",
      "   [(4967, 8)]\n",
      "   [(38628, 13)]\n",
      "   []\n",
      "   [(4018, 0), (99524, 15)]\n",
      "   [(27054, 12)]\n",
      "   [(32903, 7), (82220, 9)]\n",
      "   []\n",
      "   [(31817, 1)]\n",
      "   [(87629, 3), (32549, 10), (65325, 14), (59018, 16)]\n",
      "   [(99445, 4), (87800, 6), (86253, 18)]\n",
      "   [(75561, 19)]\n",
      "   [(72179, 11)]\n",
      "   [(50930, 5), (12374, 17)]\n",
      "   []\n"
     ]
    }
   ],
   "source": [
    "# Let us use it\n",
    "\n",
    "import random\n",
    "D = intDict(17)\n",
    "for i in range(20):\n",
    "    #choose a random int in the range of 0 to 10**5 - 1\n",
    "    key = random.choice(range(10**5))\n",
    "    D.addEntry(key, i)\n",
    "print('The value of the intDict is:')\n",
    "print(D)\n",
    "print('\\n', 'The buckets are:')\n",
    "for hashBucket in D.buckets:   #violates abstraction barrier\n",
    "    print('  ', hashBucket)"
   ]
  },
  {
   "cell_type": "code",
   "execution_count": null,
   "metadata": {},
   "outputs": [],
   "source": []
  }
 ],
 "metadata": {
  "kernelspec": {
   "display_name": "Python 3",
   "language": "python",
   "name": "python3"
  },
  "language_info": {
   "codemirror_mode": {
    "name": "ipython",
    "version": 3
   },
   "file_extension": ".py",
   "mimetype": "text/x-python",
   "name": "python",
   "nbconvert_exporter": "python",
   "pygments_lexer": "ipython3",
   "version": "3.8.2"
  }
 },
 "nbformat": 4,
 "nbformat_minor": 2
}
