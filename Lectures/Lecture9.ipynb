{
 "cells": [
  {
   "cell_type": "markdown",
   "metadata": {
    "slideshow": {
     "slide_type": "slide"
    }
   },
   "source": [
    "# Introduction to Computation and Python Programming\n",
    "\n",
    "## Lecture 9"
   ]
  },
  {
   "cell_type": "markdown",
   "metadata": {
    "slideshow": {
     "slide_type": "slide"
    }
   },
   "source": [
    "### Today\n",
    "----------\n",
    "\n",
    "- Modules"
   ]
  },
  {
   "cell_type": "markdown",
   "metadata": {
    "slideshow": {
     "slide_type": "slide"
    }
   },
   "source": [
    "### Python Modules\n",
    "\n",
    "- A module is a `.py` file containing Python definitions and statements\n",
    "- see code\n",
    "- Each module has its own private symbol table\n",
    "- Executing `import M` creates a binding for module `M` in the scope in which the `import` appears\n",
    "- Variant of `import` that allows the importing program to omit the module name\n",
    "- see code\n",
    "- Also possible to import individual objects but enter them into the local symbol table with alternate names\n",
    "- see code\n",
    "- Can also import an entire module under an alternate name\n",
    "- see code\n",
    "- Where does Python look for modules:\n",
    "    - current directory or directory from which the input script was run\n",
    "    - list of directories in `PYTHONPATH` environment variable if it is set\n",
    "    - installation-dependent list of directories configured at the time Python is installed"
   ]
  }
 ],
 "metadata": {
  "celltoolbar": "Slideshow",
  "kernelspec": {
   "display_name": "Python 3",
   "language": "python",
   "name": "python3"
  },
  "language_info": {
   "codemirror_mode": {
    "name": "ipython",
    "version": 3
   },
   "file_extension": ".py",
   "mimetype": "text/x-python",
   "name": "python",
   "nbconvert_exporter": "python",
   "pygments_lexer": "ipython3",
   "version": "3.7.3"
  }
 },
 "nbformat": 4,
 "nbformat_minor": 2
}
