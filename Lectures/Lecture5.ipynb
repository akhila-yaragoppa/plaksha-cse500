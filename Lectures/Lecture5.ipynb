{
 "cells": [
  {
   "cell_type": "markdown",
   "metadata": {
    "slideshow": {
     "slide_type": "slide"
    }
   },
   "source": [
    "# Introduction to Computation and Python Programming\n",
    "\n",
    "## Lecture 5"
   ]
  },
  {
   "cell_type": "markdown",
   "metadata": {
    "slideshow": {
     "slide_type": "slide"
    }
   },
   "source": [
    "### Today\n",
    "----------\n",
    "\n",
    "- Testing\n",
    "- Debugging\n",
    "- Exceptions\n",
    "- Assertions\n"
   ]
  },
  {
   "cell_type": "markdown",
   "metadata": {
    "slideshow": {
     "slide_type": "slide"
    }
   },
   "source": [
    "### Testing\n",
    "\n",
    "---\n",
    "\"Program testing can be used to show the presence of bugs, but never to show their absence\" - Edgar Dijsktra\n",
    "---\n",
    "\n",
    "---\n",
    "\"No amount of experimentation can ever prove me right; a single experiment can prove me wrong\" - Albert Einstein\n",
    "---\n"
   ]
  },
  {
   "cell_type": "markdown",
   "metadata": {
    "slideshow": {
     "slide_type": "slide"
    }
   },
   "source": [
    "### Testing\n",
    "\n",
    "- Compare input / output pairs to specification\n",
    "\n",
    "```python\n",
    "def isBigger(x, y):\n",
    "    \"\"\"Assumes x and y are ints\n",
    "       Returns True if x is less than y and False otherwise.\"\"\"\n",
    "```\n",
    "\n",
    "- The Python interpreter will typically ensure that the code runs by finding\n",
    "    - Syntax errors\n",
    "    - Static Semantic Errors\n",
    "- The goal of testing is to find a collection of inputs and expected results\n",
    "    - **test suite**: inputs that have a high likelihood of revealing bugs, yet does not take long to run\n",
    "- **Partition** of a set divides set into subsets such that each element belongs to exactly one subset\n",
    "- e.g. for isBigger, a possible partition is:\n",
    "    - x positive, y positive\n",
    "    - x positive, y negative\n",
    "    - x negative, y negative\n",
    "    - x negative, y positive\n",
    "    - x = 0, y = 0\n",
    "    - x = 0, y != 0\n",
    "    - x != 0, y = 0\n",
    "- Finding a good partition of inputs is critical\n",
    "- **Black Box**: Heuristics based on exploring the **specification**\n",
    "    - Don't look at the code to be tested\n",
    "    - Tests are robust with respect to implementation changes\n",
    "- **Glass Box**: Heuristics based on exploring paths through the code"
   ]
  },
  {
   "cell_type": "markdown",
   "metadata": {
    "slideshow": {
     "slide_type": "slide"
    }
   },
   "source": [
    "### Black Box Testing\n",
    "\n",
    "Test cases derived from **specification** and not **implementation**\n",
    "\n",
    "e.g.\n",
    "\n",
    "```python\n",
    "def sqrt(x, epsilon):\n",
    "    \"\"\"Assumes x, epsilon floats\n",
    "        x >= 0\n",
    "        epsilon > 0\n",
    "        Returns result such that\n",
    "        x-epsilon <= result*result <= x+epsilon\"\"\"\n",
    "```\n",
    "\n",
    "Boundary conditions should be tested:\n",
    "\n",
    "|X|Epsilon|\n",
    "|---|-------|\n",
    "|0.0|0.0001|\n",
    "|25.0|0.00001|\n",
    "|0.5|0.0001|\n",
    "|2.0|0.0001|\n",
    "|2.0|1.0/2.0\\*\\*64.0|\n",
    "|1.0/2.0\\*\\*64.0|1.0/2.0\\*\\*64.0|\n",
    "|2.0\\*\\*64.0|1.0/2.0\\*\\*64.0|\n",
    "|1.0/2.0\\*\\*64.0|2.0\\*\\*64.0|\n",
    "|2.0\\*\\*64.0|2.0\\*\\*64.0|\n",
    "\n",
    "\n",
    "- First four represent typical cases\n",
    "- Rest test extremely large and small values of x and epsilon"
   ]
  },
  {
   "cell_type": "markdown",
   "metadata": {
    "slideshow": {
     "slide_type": "slide"
    }
   },
   "source": [
    "### Glassbox Testing\n",
    "\n",
    "Looking at the **structure of the code** to design additional test cases\n",
    "\n",
    "e.g.\n",
    "\n",
    "```python\n",
    "def isPrime(x):\n",
    "    \"\"\"Assumes x is a nonnegative int\n",
    "       Returns True if x is prime; False otherwise\"\"\"\n",
    "    if x <= 2:\n",
    "        return False\n",
    "    for i in range(2, x):\n",
    "        if x%i == 0:\n",
    "            return False\n",
    "    return True\n",
    "```\n",
    "\n",
    "Without looking at the code, one might not test isPrime(2)\n",
    "\n",
    "**Path Complete** - if tests cover every potential path through the program; typically impossible to achieve.\n",
    "\n",
    "---\n",
    "\n",
    "another e.g.\n",
    "\n",
    "```python\n",
    "def abs(x):\n",
    "    \"\"\"Assumes x is an int\n",
    "       Returns x if x>=0 and –x otherwise\"\"\"\n",
    "    if x < -1:\n",
    "        return -x\n",
    "    else:\n",
    "        return x\n",
    "```\n",
    "\n",
    "- A path-complete test suite could **miss a bug**\n",
    "- path-complete test suite 2 and -2\n",
    "- but abs(-1) returns -1\n",
    "- should still test boundary cases\n",
    "\n",
    "---\n",
    "\n",
    "- General rules:\n",
    "    - exercise all branches \n",
    "    - exercise for loops - loop not entered, entered once, entered more than once\n",
    "    - exercise while loops - same as above\n",
    "    - exercise exceptions\n",
    "    - for recursive functions - no recursion, one recursive call, multiple recursive calls\n"
   ]
  },
  {
   "cell_type": "markdown",
   "metadata": {
    "slideshow": {
     "slide_type": "slide"
    }
   },
   "source": [
    "### Classes of Tests\n",
    "\n",
    "- **Unit Testing**\n",
    "    - validate each piece of program\n",
    "    - testing each function separately\n",
    "- **Regression Testing**\n",
    "    - add test for bugs as you find them\n",
    "    - catch reintroduced errors that were previously fixed\n",
    "- **Integration Testing**\n",
    "    - does overall program work?\n",
    "    - much more challenging than unit testing - mostly because of scale of testing required"
   ]
  },
  {
   "cell_type": "markdown",
   "metadata": {
    "slideshow": {
     "slide_type": "slide"
    }
   },
   "source": [
    "### Debugging\n",
    "\n",
    "- Runtime bugs can be categorized along two dimensions\n",
    "    - Overt --> Covert: **Overt** bug has an obvious manifestation while **covert** bugs don't\n",
    "    - Persistent --> Intermittent: A **persistent** bug occurs each time while an **intermittent** bug occurs only some of the time\n",
    "- The goal of **defensive programming** is to write programs such that programming mistakes lead to bugs that are both **overt and persistent**\n",
    "\n",
    "---\n",
    "\n",
    "- Debugging is a search process\n",
    "- Each experiment is an attempt to reduce the size of the search space\n",
    "- see example (code)\n",
    "\n",
    "---\n",
    "\n",
    "<<HANDOUT>>"
   ]
  },
  {
   "cell_type": "markdown",
   "metadata": {
    "slideshow": {
     "slide_type": "slide"
    }
   },
   "source": [
    "### Dos and Don'ts\n",
    "\n",
    "| DON'T | DO |\n",
    "|---|---|\n",
    "| <ul><li>Write Entire Program</li><li>Debug Entire Program</li><li>Test Entire Program</li></ul> | <ul><li>Write a function</li><li>Test the function, debug the function</li><li>Write a function</li><li>Test the function, debug the function</li><li>**Do integration testing**</li></ul> |\n",
    "| <ul><li>Change code</li><li>Remember where the bug was</li><li>Test code</li><li>Forget where bug was or what change you made</li><li>Panic</li></ul> | <ul><li> Backup code</li><li>Change code</li><li>Write down potential bug in a comment</li><li>Test code</li><li>Compare new version with old version</li></ul>|"
   ]
  },
  {
   "cell_type": "markdown",
   "metadata": {
    "slideshow": {
     "slide_type": "slide"
    }
   },
   "source": [
    "### Exceptions\n",
    "\n",
    "- When execution hits an unexpected condition\n",
    "- Common exceptions: *TypeError, IndexError, NameError, ValueError*\n",
    "- see example(code)"
   ]
  },
  {
   "cell_type": "markdown",
   "metadata": {
    "slideshow": {
     "slide_type": "slide"
    }
   },
   "source": [
    "### Handling Exceptions\n",
    "\n",
    "- Exceptions can and should be **handled** by the program\n",
    "\n",
    "e.g. instead of:\n",
    "\n",
    "```python\n",
    "successFailureRatio = numSuccesses/numFailures\n",
    "print('The success/failure ratio is', successFailureRatio)\n",
    "print('Now here')\n",
    "```\n",
    "\n",
    "handle the case where numFailures may be zero\n",
    "\n",
    "```python\n",
    "try:\n",
    "    successFailureRatio = numSuccesses/numFailures\n",
    "    print('The success/failure ratio is', successFailureRatio)\n",
    "except ZeroDivisionError:\n",
    "    print('No failures, so the success/failure ratio is undefined.')\n",
    "print('Now here')\n",
    "```\n",
    "\n"
   ]
  },
  {
   "cell_type": "markdown",
   "metadata": {
    "slideshow": {
     "slide_type": "slide"
    }
   },
   "source": [
    "### Else and Finally\n",
    "\n",
    "- **else**:\n",
    "    - body of this is executed when execution of associated try body completes **with no exceptions**\n",
    "- **finally**:\n",
    "    - body of this is always executed after try, else and except clauses, even if they raised another error or executed a break, continue or return\n",
    "    - useful for clean-up code that should be run no matter what else happened (e.g. close a file)"
   ]
  },
  {
   "cell_type": "markdown",
   "metadata": {
    "slideshow": {
     "slide_type": "slide"
    }
   },
   "source": [
    "### Exceptions as Control Flow\n",
    "\n",
    "- some programming languages return a special value for errors that the caller has to check for\n",
    "- in Python - raise an exception when it cannot produce a result that is consistent with the function specification\n",
    "- **raise** statement forces a specified exception to occur\n",
    "    - *raise exceptionName(arguments)*\n",
    "- see example"
   ]
  },
  {
   "cell_type": "markdown",
   "metadata": {
    "slideshow": {
     "slide_type": "slide"
    }
   },
   "source": [
    "### Assertions\n",
    "\n",
    "- the Python **assert** statement provides programmers with a way to confirm the state of computation as expected\n",
    "- use an assert statement to raise an *AssertionError* exception if assumptions not met\n",
    "- an example of good **defensive programming**\n",
    "- see example"
   ]
  },
  {
   "cell_type": "markdown",
   "metadata": {
    "slideshow": {
     "slide_type": "slide"
    }
   },
   "source": [
    "### Assertions as Defensive Programming\n",
    "\n",
    "- assertions don’t allow a programmer to control response to unexpected conditions\n",
    "- ensure that **execution halts** whenever an expected condition is not met\n",
    "- typically used to **check inputs** to functions, but can be used anywhere\n",
    "- can be used to **check outputs** of a function to avoid propagating bad values\n",
    "- can make it easier to locate a source of a bug"
   ]
  },
  {
   "cell_type": "code",
   "execution_count": null,
   "metadata": {},
   "outputs": [],
   "source": []
  }
 ],
 "metadata": {
  "celltoolbar": "Slideshow",
  "kernelspec": {
   "display_name": "Python 3",
   "language": "python",
   "name": "python3"
  },
  "language_info": {
   "codemirror_mode": {
    "name": "ipython",
    "version": 3
   },
   "file_extension": ".py",
   "mimetype": "text/x-python",
   "name": "python",
   "nbconvert_exporter": "python",
   "pygments_lexer": "ipython3",
   "version": "3.7.3"
  }
 },
 "nbformat": 4,
 "nbformat_minor": 2
}
