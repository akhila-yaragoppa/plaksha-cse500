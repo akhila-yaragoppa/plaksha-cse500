{
 "cells": [
  {
   "cell_type": "markdown",
   "metadata": {},
   "source": [
    "### Tuples"
   ]
  },
  {
   "cell_type": "code",
   "execution_count": 1,
   "metadata": {},
   "outputs": [
    {
     "name": "stdout",
     "output_type": "stream",
     "text": [
      "()\n",
      "(1, 'two', 3)\n"
     ]
    }
   ],
   "source": [
    "# Tuples can have elements of different type\n",
    "t1 = ()\n",
    "t2 = (1, 'two', 3)\n",
    "print(t1)\n",
    "print(t2)"
   ]
  },
  {
   "cell_type": "code",
   "execution_count": 2,
   "metadata": {},
   "outputs": [
    {
     "name": "stdout",
     "output_type": "stream",
     "text": [
      "((1, 'two', 3), 3.25)\n",
      "(1, 'two', 3, (1, 'two', 3), 3.25)\n",
      "(1, 'two', 3)\n",
      "(3, (1, 'two', 3), 3.25)\n"
     ]
    }
   ],
   "source": [
    "# Concatenation, Indexing and Slicing\n",
    "\n",
    "t1 = (1, 'two', 3)\n",
    "t2 = (t1, 3.25)\n",
    "print (t2)\n",
    "print ((t1 + t2))\n",
    "print ((t1 + t2)[3])\n",
    "print ((t1 + t2)[2:5])"
   ]
  },
  {
   "cell_type": "code",
   "execution_count": 29,
   "metadata": {},
   "outputs": [],
   "source": [
    "# For loops and tuples\n",
    "def intersect(t1, t2):\n",
    "    \"\"\"Assumes t1 and t2 are tuples\n",
    "       Returns a tuple containing elements that are in \n",
    "         both t1 and t2\"\"\"\n",
    "    result = ()\n",
    "    for e in t1:\n",
    "        if e in t2:\n",
    "            result += (e,)\n",
    "    return result"
   ]
  },
  {
   "cell_type": "code",
   "execution_count": 30,
   "metadata": {},
   "outputs": [
    {
     "name": "stdout",
     "output_type": "stream",
     "text": [
      "('b', True)\n"
     ]
    }
   ],
   "source": [
    "print (intersect (('a', 12, 'b', True), ('b', True, 25)))"
   ]
  },
  {
   "cell_type": "code",
   "execution_count": null,
   "metadata": {},
   "outputs": [],
   "source": [
    "# Multiple Assignment\n",
    "\n",
    "x, y = (3, 4)\n",
    "print (x)\n",
    "print (y)"
   ]
  },
  {
   "cell_type": "code",
   "execution_count": 8,
   "metadata": {},
   "outputs": [],
   "source": [
    "# Used to return more than one value from a function\n",
    "\n",
    "def quotient_and_remainder (x, y):\n",
    "    q = x // y\n",
    "    r = x % y\n",
    "    return (q, r)"
   ]
  },
  {
   "cell_type": "code",
   "execution_count": 9,
   "metadata": {},
   "outputs": [
    {
     "name": "stdout",
     "output_type": "stream",
     "text": [
      "5\n",
      "2\n"
     ]
    }
   ],
   "source": [
    "quotient, remainder = quotient_and_remainder(17, 3)\n",
    "print (quotient)\n",
    "print (remainder)"
   ]
  },
  {
   "cell_type": "markdown",
   "metadata": {},
   "source": [
    "### Ranges"
   ]
  },
  {
   "cell_type": "code",
   "execution_count": 11,
   "metadata": {},
   "outputs": [
    {
     "data": {
      "text/plain": [
       "4"
      ]
     },
     "execution_count": 11,
     "metadata": {},
     "output_type": "execute_result"
    }
   ],
   "source": [
    "range(10)[2:6][2]"
   ]
  },
  {
   "cell_type": "code",
   "execution_count": 15,
   "metadata": {},
   "outputs": [
    {
     "data": {
      "text/plain": [
       "10"
      ]
     },
     "execution_count": 15,
     "metadata": {},
     "output_type": "execute_result"
    }
   ],
   "source": [
    "len(range(10))"
   ]
  },
  {
   "cell_type": "code",
   "execution_count": 16,
   "metadata": {},
   "outputs": [
    {
     "data": {
      "text/plain": [
       "True"
      ]
     },
     "execution_count": 16,
     "metadata": {},
     "output_type": "execute_result"
    }
   ],
   "source": [
    "# compare ranges - equal only if they represent the same **sequence** of integers\n",
    "range(0, 7, 2) == range (0, 8, 2)"
   ]
  },
  {
   "cell_type": "code",
   "execution_count": 17,
   "metadata": {},
   "outputs": [
    {
     "data": {
      "text/plain": [
       "False"
      ]
     },
     "execution_count": 17,
     "metadata": {},
     "output_type": "execute_result"
    }
   ],
   "source": [
    "range(0, 7, 2) == range(6, -1, -2)"
   ]
  },
  {
   "cell_type": "markdown",
   "metadata": {},
   "source": [
    "### Lists"
   ]
  },
  {
   "cell_type": "code",
   "execution_count": 18,
   "metadata": {},
   "outputs": [
    {
     "data": {
      "text/plain": [
       "3"
      ]
     },
     "execution_count": 18,
     "metadata": {},
     "output_type": "execute_result"
    }
   ],
   "source": [
    "# Indexing Lists - square brackets overload\n",
    "\n",
    "[1, 2, 3, 4][1:3][1]"
   ]
  },
  {
   "cell_type": "code",
   "execution_count": 20,
   "metadata": {},
   "outputs": [],
   "source": [
    "# A variable is merely a name\n",
    "# Repeat - a variable is merely a name\n",
    "\n",
    "Women = ['Sharapova', 'Serena', 'Graf', 'Evert', 'Navratilova', 'King', 'Court']\n",
    "Men = ['Nadal', 'Federer', 'Agassi', 'Laver', 'Emerson']\n",
    "\n",
    "career_slam_winners = [Women, Men]\n",
    "career_slam_winners1 = [['Sharapova', 'Serena', 'Graf', 'Evert', 'Navratilova', 'King', 'Court'], ['Nadal', 'Federer', 'Agassi', 'Laver', 'Emerson']]\n"
   ]
  },
  {
   "cell_type": "code",
   "execution_count": 21,
   "metadata": {},
   "outputs": [
    {
     "name": "stdout",
     "output_type": "stream",
     "text": [
      "True\n"
     ]
    }
   ],
   "source": [
    "print (career_slam_winners == career_slam_winners1)"
   ]
  },
  {
   "cell_type": "code",
   "execution_count": 22,
   "metadata": {},
   "outputs": [
    {
     "name": "stdout",
     "output_type": "stream",
     "text": [
      "139747690881864\n",
      "139748036423176\n"
     ]
    }
   ],
   "source": [
    "print (id(career_slam_winners))\n",
    "print (id(career_slam_winners1))"
   ]
  },
  {
   "cell_type": "code",
   "execution_count": 23,
   "metadata": {},
   "outputs": [
    {
     "name": "stdout",
     "output_type": "stream",
     "text": [
      "False\n"
     ]
    }
   ],
   "source": [
    "print (id(career_slam_winners) == id(career_slam_winners1))"
   ]
  },
  {
   "cell_type": "markdown",
   "metadata": {},
   "source": [
    "![List Values vs Ids](diagrams/ListValueId.svg)"
   ]
  },
  {
   "cell_type": "code",
   "execution_count": 24,
   "metadata": {},
   "outputs": [
    {
     "name": "stdout",
     "output_type": "stream",
     "text": [
      "career_slam_winners = [['Sharapova', 'Serena', 'Graf', 'Evert', 'Navratilova', 'King', 'Court'], ['Nadal', 'Federer', 'Agassi', 'Laver', 'Emerson', 'Djokovic']]\n",
      "career_slam_winners1 = [['Sharapova', 'Serena', 'Graf', 'Evert', 'Navratilova', 'King', 'Court'], ['Nadal', 'Federer', 'Agassi', 'Laver', 'Emerson']]\n"
     ]
    }
   ],
   "source": [
    "# Aliasing\n",
    "Men.append('Djokovic')\n",
    "print('career_slam_winners =', career_slam_winners)\n",
    "print('career_slam_winners1 =', career_slam_winners1)"
   ]
  },
  {
   "cell_type": "code",
   "execution_count": 25,
   "metadata": {},
   "outputs": [
    {
     "name": "stdout",
     "output_type": "stream",
     "text": [
      "L3 = [1, 2, 3, 4, 5, 6]\n",
      "L1 = [1, 2, 3, 4, 5, 6]\n",
      "L1 = [1, 2, 3, 4, 5, 6, [4, 5, 6]]\n"
     ]
    }
   ],
   "source": [
    "# Append and Extend operations\n",
    "L1 = [1, 2, 3]\n",
    "L2 = [4, 5, 6]\n",
    "L3 = L1 + L2\n",
    "print ('L3 =', L3)\n",
    "L1.extend(L2)\n",
    "print ('L1 =', L1)\n",
    "L1.append(L2)\n",
    "print ('L1 =', L1)"
   ]
  },
  {
   "cell_type": "code",
   "execution_count": 1,
   "metadata": {},
   "outputs": [
    {
     "name": "stdout",
     "output_type": "stream",
     "text": [
      "[1, 4, 9, 16, 25, 36]\n"
     ]
    }
   ],
   "source": [
    "# List Comprehension\n",
    "\n",
    "L = [x**2 for x in range(1,7)]\n",
    "print(L)"
   ]
  },
  {
   "cell_type": "code",
   "execution_count": 2,
   "metadata": {},
   "outputs": [
    {
     "name": "stdout",
     "output_type": "stream",
     "text": [
      "[1, 4, 9]\n"
     ]
    }
   ],
   "source": [
    "mixed = [1, 2, 'a', 3, 4.0]\n",
    "print([x**2 for x in mixed if type(x) == int])"
   ]
  },
  {
   "cell_type": "code",
   "execution_count": 3,
   "metadata": {},
   "outputs": [
    {
     "name": "stdout",
     "output_type": "stream",
     "text": [
      "[2, 1, 3, 6, 3, 7, 0]\n",
      "[1, 3, 6, 3, 7, 0]\n",
      "[1, 6, 3, 7, 0]\n",
      "[1, 3, 7, 0]\n",
      "0\n",
      "[1, 3, 7]\n"
     ]
    }
   ],
   "source": [
    "# More mutations \n",
    "\n",
    "L = [2, 1, 3, 6, 3, 7, 0]\n",
    "print(L)\n",
    "L.remove(2)\n",
    "print(L)\n",
    "L.remove(3)\n",
    "print(L)\n",
    "del(L[1])\n",
    "print(L)\n",
    "print(L.pop())\n",
    "print(L)\n"
   ]
  },
  {
   "cell_type": "code",
   "execution_count": 4,
   "metadata": {},
   "outputs": [
    {
     "name": "stdout",
     "output_type": "stream",
     "text": [
      "s = I<3 cs\n",
      "list(s) = ['I', '<', '3', ' ', 'c', 's']\n",
      "s.split('<') = ['I', '3 cs']\n",
      "L = ['a', 'b', 'c']\n",
      "''.join(L) = abc\n",
      "'_'.join(L) = a_b_c\n"
     ]
    }
   ],
   "source": [
    "# Strings and Lists\n",
    "\n",
    "s = 'I<3 cs'\n",
    "print('s =', s)\n",
    "print('list(s) =', list(s))\n",
    "print('s.split(\\'<\\') =', s.split('<'))\n",
    "L = ['a', 'b', 'c']\n",
    "print('L =', L)\n",
    "print('\\'\\'.join(L) =', ''.join(L))\n",
    "print('\\'_\\'.join(L) =', '_'.join(L))"
   ]
  },
  {
   "cell_type": "code",
   "execution_count": 6,
   "metadata": {},
   "outputs": [
    {
     "name": "stdout",
     "output_type": "stream",
     "text": [
      "['orange', 'red', 'yellow']\n",
      "None\n",
      "['grey', 'green', 'blue']\n",
      "['blue', 'green', 'grey']\n"
     ]
    }
   ],
   "source": [
    "# Sorting Lists - sort mutates and sorted does not\n",
    "\n",
    "warm = ['red', 'yellow', 'orange']\n",
    "sortedwarm = warm.sort()\n",
    "print(warm)\n",
    "print(sortedwarm)\n",
    "\n",
    "cool = ['grey', 'green', 'blue']\n",
    "sortedcool = sorted(cool)\n",
    "print(cool)\n",
    "print(sortedcool)"
   ]
  },
  {
   "cell_type": "code",
   "execution_count": 7,
   "metadata": {},
   "outputs": [
    {
     "name": "stdout",
     "output_type": "stream",
     "text": [
      "24\n"
     ]
    }
   ],
   "source": [
    "### Factorial\n",
    "\n",
    "def factR(n):\n",
    "   \"\"\"Assumes n an int > 0\n",
    "      Returns n!\"\"\"\n",
    "   if n == 1:\n",
    "       return n\n",
    "   else:\n",
    "       return n*factR(n - 1)\n",
    "\n",
    "print(factR(4))"
   ]
  },
  {
   "cell_type": "code",
   "execution_count": 8,
   "metadata": {},
   "outputs": [],
   "source": [
    "### Fibonacci\n",
    "def fib(n):\n",
    "    \"\"\"Assumes n int >= 0\n",
    "    Returns Fibonacci of n\"\"\"\n",
    "    if n == 0 or n == 1:\n",
    "        return 1\n",
    "    else:\n",
    "        return fib(n-1) + fib(n-2)\n",
    "\n",
    "def testFib(n):\n",
    "    for i in range(n+1):\n",
    "        print('fib of', i, '=', fib(i))"
   ]
  },
  {
   "cell_type": "code",
   "execution_count": 9,
   "metadata": {},
   "outputs": [
    {
     "name": "stdout",
     "output_type": "stream",
     "text": [
      "fib of 0 = 1\n",
      "fib of 1 = 1\n",
      "fib of 2 = 2\n",
      "fib of 3 = 3\n",
      "fib of 4 = 5\n",
      "fib of 5 = 8\n",
      "fib of 6 = 13\n",
      "fib of 7 = 21\n",
      "fib of 8 = 34\n",
      "fib of 9 = 55\n",
      "fib of 10 = 89\n"
     ]
    }
   ],
   "source": [
    "testFib(10)"
   ]
  },
  {
   "cell_type": "code",
   "execution_count": null,
   "metadata": {},
   "outputs": [],
   "source": [
    "### Palindrome\n",
    "\n",
    "def isPalindrome(s):\n",
    "   \"\"\"Assumes s is a str\n",
    "      Returns True if s is a palindrome; False otherwise.\n",
    "       Punctuation marks, blanks, and capitalization are ignored.\"\"\"\n",
    "   \n",
    "   def toChars(s):\n",
    "      s = s.lower()\n",
    "      letters = ''\n",
    "      for c in s:\n",
    "        if c in 'abcdefghijklmnopqrstuvwxyz':\n",
    "            letters = letters + c\n",
    "      return letters\n",
    "\n",
    "   def isPal(s):\n",
    "      print('  isPal called with', s)\n",
    "      if len(s) <= 1:\n",
    "         print('  About to return True from base case')\n",
    "         return True\n",
    "      else:\n",
    "         answer = s[0] == s[-1] and isPal(s[1:-1])\n",
    "         print('  About to return', answer, 'for', s)\n",
    "         return answer\n",
    "         \n",
    "   return isPal(toChars(s))\n"
   ]
  },
  {
   "cell_type": "code",
   "execution_count": null,
   "metadata": {},
   "outputs": [],
   "source": [
    "def testIsPalindrome():\n",
    "   print('Try dogGod')\n",
    "   print(isPalindrome('dogGod'))\n",
    "   print('Try doGood')\n",
    "   print(isPalindrome('doGood'))\n",
    "\n",
    "testIsPalindrome()\n"
   ]
  },
  {
   "cell_type": "code",
   "execution_count": 10,
   "metadata": {},
   "outputs": [],
   "source": [
    "# Dictionaries\n",
    "monthNumbers = {'Jan': 1, 'Feb': 2, 'Mar': 3, 'Apr': 4, 'May': 5,\n",
    "                1: 'Jan', 2: 'Feb', 3: 'Mar', 4: 'Apr', 5: 'May'}"
   ]
  },
  {
   "cell_type": "code",
   "execution_count": 11,
   "metadata": {},
   "outputs": [
    {
     "name": "stdout",
     "output_type": "stream",
     "text": [
      "The third month is Mar\n",
      "Apr and Jan are 3 months apart\n"
     ]
    }
   ],
   "source": [
    "# entries are unordered and cannot be accessed with an index\n",
    "print ('The third month is ' + monthNumbers[3])\n",
    "dist = monthNumbers['Apr'] - monthNumbers['Jan']\n",
    "print ('Apr and Jan are', dist, 'months apart')"
   ]
  },
  {
   "cell_type": "code",
   "execution_count": null,
   "metadata": {},
   "outputs": [],
   "source": [
    "# Dictionaries are mutable\n",
    "monthNumbers['June'] = 6\n",
    "monthNumbers['May'] = 'V'\n",
    "del(monthNumbers['May'])"
   ]
  },
  {
   "cell_type": "code",
   "execution_count": 12,
   "metadata": {},
   "outputs": [
    {
     "name": "stdout",
     "output_type": "stream",
     "text": [
      "dict_keys(['Jan', 'Feb', 'Mar', 'Apr', 'May', 1, 2, 3, 4, 5])\n",
      "dict_values([1, 2, 3, 4, 5, 'Jan', 'Feb', 'Mar', 'Apr', 'May'])\n"
     ]
    }
   ],
   "source": [
    "# Get iterables that act like a tuple of keys or values\n",
    "print(monthNumbers.keys())\n",
    "print(monthNumbers.values())"
   ]
  },
  {
   "cell_type": "code",
   "execution_count": 14,
   "metadata": {},
   "outputs": [],
   "source": [
    "# Fibonacci Efficient\n",
    "def fib_efficient(n, d):\n",
    "    if n in d:\n",
    "        return d[n]\n",
    "    else:\n",
    "        ans = fib_efficient(n-1, d) + fib_efficient(n-2, d)\n",
    "        d[n] = ans\n",
    "        return ans\n"
   ]
  },
  {
   "cell_type": "code",
   "execution_count": 15,
   "metadata": {},
   "outputs": [
    {
     "name": "stdout",
     "output_type": "stream",
     "text": [
      "13\n"
     ]
    }
   ],
   "source": [
    "d = {1:1, 2:2}\n",
    "print (fib_efficient(6, d))"
   ]
  },
  {
   "cell_type": "code",
   "execution_count": 26,
   "metadata": {},
   "outputs": [
    {
     "name": "stdout",
     "output_type": "stream",
     "text": [
      "<class 'list'>\n"
     ]
    }
   ],
   "source": [
    "# Generators\n",
    "squared_list = [x**2 for x in range(5)]\n",
    "print(type(squared_list))"
   ]
  },
  {
   "cell_type": "code",
   "execution_count": 27,
   "metadata": {},
   "outputs": [
    {
     "name": "stdout",
     "output_type": "stream",
     "text": [
      "resuming..\n",
      "second 0\n",
      "second 1\n",
      "second 4\n",
      "second 9\n",
      "second 16\n"
     ]
    }
   ],
   "source": [
    "for number in squared_list:\n",
    "    if number < 5:\n",
    "        break\n",
    "    print(\"first\", number)\n",
    "print (\"resuming..\")\n",
    "for number in squared_list:\n",
    "    print(\"second\", number)"
   ]
  },
  {
   "cell_type": "code",
   "execution_count": 38,
   "metadata": {},
   "outputs": [
    {
     "name": "stdout",
     "output_type": "stream",
     "text": [
      "<class 'generator'>\n"
     ]
    }
   ],
   "source": [
    "# Now a generator\n",
    "squared_gen = (x**2 for x in range(5))\n",
    "print(type(squared_gen))"
   ]
  },
  {
   "cell_type": "code",
   "execution_count": 39,
   "metadata": {},
   "outputs": [
    {
     "name": "stdout",
     "output_type": "stream",
     "text": [
      "first 0\n",
      "first 1\n",
      "first 4\n",
      "resuming..\n",
      "second 9\n",
      "second 16\n"
     ]
    }
   ],
   "source": [
    "for number in squared_gen:\n",
    "    print(\"first\", number)\n",
    "    if number > 2:\n",
    "        break\n",
    "\n",
    "print (\"resuming..\")\n",
    "for number in squared_gen:\n",
    "    print(\"second\", number)"
   ]
  },
  {
   "cell_type": "code",
   "execution_count": 40,
   "metadata": {},
   "outputs": [
    {
     "name": "stdout",
     "output_type": "stream",
     "text": [
      "[1, 8, 27, 64, 125]\n"
     ]
    }
   ],
   "source": [
    "# List\n",
    "def cube_numbers(nums):\n",
    "    cube_list =[]\n",
    "    for i in nums:\n",
    "        cube_list.append(i**3)\n",
    "    return cube_list\n",
    "\n",
    "cubes = cube_numbers([1, 2, 3, 4, 5])\n",
    "\n",
    "print(cubes)"
   ]
  },
  {
   "cell_type": "code",
   "execution_count": 44,
   "metadata": {},
   "outputs": [
    {
     "name": "stdout",
     "output_type": "stream",
     "text": [
      "<generator object cube_numbers at 0x7f331f73af48>\n"
     ]
    }
   ],
   "source": [
    "# Changing this to a generator\n",
    "def cube_numbers(nums):\n",
    "    for i in nums:\n",
    "        yield(i**3)\n",
    "\n",
    "cubes = cube_numbers([1, 2, 3, 4, 5])\n",
    "\n",
    "print(cubes)"
   ]
  },
  {
   "cell_type": "code",
   "execution_count": 43,
   "metadata": {},
   "outputs": [
    {
     "name": "stdout",
     "output_type": "stream",
     "text": [
      "1\n",
      "8\n",
      "27\n",
      "64\n",
      "125\n"
     ]
    }
   ],
   "source": [
    "for i in cubes:\n",
    "    print(i)"
   ]
  },
  {
   "cell_type": "code",
   "execution_count": 50,
   "metadata": {},
   "outputs": [
    {
     "ename": "StopIteration",
     "evalue": "",
     "output_type": "error",
     "traceback": [
      "\u001b[0;31m---------------------------------------------------------------------------\u001b[0m",
      "\u001b[0;31mStopIteration\u001b[0m                             Traceback (most recent call last)",
      "\u001b[0;32m<ipython-input-50-988df2a56126>\u001b[0m in \u001b[0;36m<module>\u001b[0;34m\u001b[0m\n\u001b[0;32m----> 1\u001b[0;31m \u001b[0mnext\u001b[0m\u001b[0;34m(\u001b[0m\u001b[0mcubes\u001b[0m\u001b[0;34m)\u001b[0m\u001b[0;34m\u001b[0m\u001b[0;34m\u001b[0m\u001b[0m\n\u001b[0m",
      "\u001b[0;31mStopIteration\u001b[0m: "
     ]
    }
   ],
   "source": [
    "next(cubes)"
   ]
  },
  {
   "cell_type": "code",
   "execution_count": null,
   "metadata": {},
   "outputs": [],
   "source": []
  }
 ],
 "metadata": {
  "kernelspec": {
   "display_name": "Python 3",
   "language": "python",
   "name": "python3"
  },
  "language_info": {
   "codemirror_mode": {
    "name": "ipython",
    "version": 3
   },
   "file_extension": ".py",
   "mimetype": "text/x-python",
   "name": "python",
   "nbconvert_exporter": "python",
   "pygments_lexer": "ipython3",
   "version": "3.7.3"
  }
 },
 "nbformat": 4,
 "nbformat_minor": 2
}
