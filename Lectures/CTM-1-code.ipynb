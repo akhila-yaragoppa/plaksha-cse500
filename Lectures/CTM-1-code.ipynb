{
 "cells": [
  {
   "cell_type": "markdown",
   "metadata": {},
   "source": [
    "## GF(2)"
   ]
  },
  {
   "cell_type": "code",
   "execution_count": 3,
   "metadata": {},
   "outputs": [],
   "source": [
    "# Copyright 2013 Philip N. Klein\n",
    "from numbers import Number\n",
    "\n",
    "class One:\n",
    "    def __add__(self, other): return self if other == 0 else 0\n",
    "    __sub__ = __add__\n",
    "    def __mul__(self, other):\n",
    "        if isinstance(other, Number):\n",
    "            return 0 if other == 0 else self\n",
    "        return other\n",
    "    def __div__(self, other):\n",
    "        if other == 0: raise ZeroDivisionError\n",
    "        return self\n",
    "    __truediv__ = __div__\n",
    "    def __rdiv__(self,other): return other\n",
    "    __rtruediv__ = __rdiv__\n",
    "    __radd__ = __add__\n",
    "    __rsub__ = __add__\n",
    "    __rmul__ = __mul__\n",
    "    #hack to ensure not (one < 1e-16) by ensuring not (one < x) for every x\n",
    "    def __lt__(self,other): return False\n",
    "    def __eq__(self, other):\n",
    "        if isinstance(other, self.__class__) or other==0:\n",
    "            return other != 0\n",
    "        else:\n",
    "            raise TypeError\n",
    "    def __hash__(self): return 1\n",
    "    def __str__(self): return 'one'\n",
    "    __repr__ = __str__\n",
    "    def __neg__(self): return self\n",
    "    def __bool__(self): return True\n",
    "    def __format__(self, format_spec): return format(str(self),format_spec)"
   ]
  },
  {
   "cell_type": "code",
   "execution_count": 4,
   "metadata": {},
   "outputs": [],
   "source": [
    "one = One()\n",
    "zero = 0"
   ]
  },
  {
   "cell_type": "code",
   "execution_count": null,
   "metadata": {},
   "outputs": [],
   "source": []
  }
 ],
 "metadata": {
  "kernelspec": {
   "display_name": "Python 3",
   "language": "python",
   "name": "python3"
  },
  "language_info": {
   "codemirror_mode": {
    "name": "ipython",
    "version": 3
   },
   "file_extension": ".py",
   "mimetype": "text/x-python",
   "name": "python",
   "nbconvert_exporter": "python",
   "pygments_lexer": "ipython3",
   "version": "3.8.2"
  }
 },
 "nbformat": 4,
 "nbformat_minor": 4
}
