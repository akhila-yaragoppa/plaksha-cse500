{
 "cells": [
  {
   "cell_type": "markdown",
   "metadata": {
    "slideshow": {
     "slide_type": "slide"
    }
   },
   "source": [
    "# Introduction to Computation and Python Programming\n",
    "\n",
    "## Lecture 6"
   ]
  },
  {
   "cell_type": "markdown",
   "metadata": {
    "slideshow": {
     "slide_type": "slide"
    }
   },
   "source": [
    "### Today\n",
    "----------\n",
    "\n",
    "- Object Oriented Programming in Python\n",
    "- Inheritance"
   ]
  },
  {
   "cell_type": "markdown",
   "metadata": {},
   "source": [
    "### Objects\n",
    "\n",
    "- Python has many different kinds of data\n",
    "    - 1234\n",
    "    - 3.14159\n",
    "    - \"Puppet\"\n",
    "    - ['red', 'green', 'blue']\n",
    "    - {'SVK': 'Slovakia', 'POL': 'Poland', 'AUS': 'Austria'}\n",
    "- Each is an **object** and each object has:\n",
    "    - a **type**\n",
    "    - an internal **data representation** (primitive or composite)\n",
    "    - a set of procedures for **interaction** with the object\n",
    "- An object is an **instance** of a **type**:\n",
    "    - 1234 is an instance of *int*\n",
    "    - \"Puppet\" is an instance of *string*\n",
    "    "
   ]
  },
  {
   "cell_type": "markdown",
   "metadata": {},
   "source": [
    "### Object Oriented Programming\n",
    "\n",
    "- An **Abstract Data Type** is a set of objects and operations on those objects\n",
    "- It has **data attributes** and\n",
    "- **Operations** to manipulate that data\n",
    "- Can be passed from one part of a program to another\n",
    "- Specifications define an **interface** between the ADT and the rest of the program - an **abstraction barrier**"
   ]
  },
  {
   "cell_type": "markdown",
   "metadata": {},
   "source": [
    "### Classes\n",
    "\n",
    "- Abstract Data Types (ADTs) are implemented used **classes**\n",
    "- see code\n",
    "- A function defined within a class definition is called a **method** and the methods are called the **method attributes** of the class\n",
    "- Classes support two kinds of operations:\n",
    "    - **Instantiation** - to create a new instance of the class\n",
    "    - **Attribute references** - using the *dot notation* \n",
    "- A class also has **data attributes** - e.g. in IntSet, vals is a data attribute"
   ]
  },
  {
   "cell_type": "markdown",
   "metadata": {},
   "source": [
    "### Class vs Object\n",
    "\n",
    "- Objects are **instances** of Classes and the two should not be confused\n",
    "- IntSet.member is an attribute of the class IntSet; s.member is an attribute of the object s but is bound to the method defined in the class IntSet. This can be changed\n",
    "- Data attributes can also be associated with a class. These are called **class variables**"
   ]
  },
  {
   "cell_type": "markdown",
   "metadata": {},
   "source": [
    "### Special methods\n",
    "\n",
    "- *\\_\\_init\\_\\_*, also called the constructor, is responsible for initialization|\n",
    "- *\\_\\_str\\_\\_* is called when the print method is used on objects of the class\n",
    "- *\\_\\_str\\_\\_* is also called when an object is converted to a string using the *str* method\n",
    "- Other special methods include *\\_\\_hash\\_\\_*, *\\_\\_eq\\_\\_* etc."
   ]
  },
  {
   "cell_type": "markdown",
   "metadata": {},
   "source": [
    "### Object Oriented Programming\n",
    "\n",
    "- Abstract Data Types as organizational entities in the program (data with associated behavior)\n",
    "- Think of the program as a **collection of types** rather than a collection of functions\n",
    "- Programming is a process of composing **abstractions**"
   ]
  },
  {
   "cell_type": "markdown",
   "metadata": {},
   "source": [
    "### Another class example\n",
    "\n",
    "see code"
   ]
  }
 ],
 "metadata": {
  "celltoolbar": "Slideshow",
  "kernelspec": {
   "display_name": "Python 3",
   "language": "python",
   "name": "python3"
  },
  "language_info": {
   "codemirror_mode": {
    "name": "ipython",
    "version": 3
   },
   "file_extension": ".py",
   "mimetype": "text/x-python",
   "name": "python",
   "nbconvert_exporter": "python",
   "pygments_lexer": "ipython3",
   "version": "3.7.3"
  }
 },
 "nbformat": 4,
 "nbformat_minor": 2
}
