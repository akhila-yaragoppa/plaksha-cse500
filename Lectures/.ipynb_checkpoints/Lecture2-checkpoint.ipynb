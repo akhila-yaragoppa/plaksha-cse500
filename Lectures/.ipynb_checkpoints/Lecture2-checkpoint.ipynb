{
 "cells": [
  {
   "cell_type": "markdown",
   "metadata": {
    "slideshow": {
     "slide_type": "slide"
    }
   },
   "source": [
    "# Introduction to Computation and Python Programming\n",
    "\n",
    "## Lecture 2"
   ]
  },
  {
   "cell_type": "markdown",
   "metadata": {
    "slideshow": {
     "slide_type": "slide"
    }
   },
   "source": [
    "### Today\n",
    "----------\n",
    "\n",
    "- String type\n",
    "- Branching and conditionals\n",
    "- Indentation\n",
    "- Iteration and Loops"
   ]
  },
  {
   "cell_type": "markdown",
   "metadata": {
    "slideshow": {
     "slide_type": "slide"
    }
   },
   "source": [
    "### Strings\n",
    "\n",
    "- Letters, special characters, spaces, digits\n",
    "- enclose in **single or double quotes**\n",
    "- overloaded operators + and *"
   ]
  },
  {
   "cell_type": "markdown",
   "metadata": {
    "slideshow": {
     "slide_type": "slide"
    }
   },
   "source": [
    " ### Code ---------------->\n"
   ]
  },
  {
   "cell_type": "markdown",
   "metadata": {},
   "source": [
    "### INPUT / OUTPUT: input (\" \")\n",
    "\n",
    "- input(...) was introduced in Python 3\n",
    "- prints what is in quotes\n",
    "- takes user input and binds to a variable\n",
    "- input value is always a string - have to cast to get int etc."
   ]
  },
  {
   "cell_type": "markdown",
   "metadata": {},
   "source": [
    "### Branching and Conditionals\n",
    "\n",
    "\n",
    "\n",
    "```python\n",
    "if Boolean expression:  \n",
    "    block of code  \n",
    "else:  \n",
    "    block of code  \n",
    "```"
   ]
  },
  {
   "cell_type": "code",
   "execution_count": null,
   "metadata": {},
   "outputs": [],
   "source": []
  }
 ],
 "metadata": {
  "celltoolbar": "Slideshow",
  "kernelspec": {
   "display_name": "Python 3",
   "language": "python",
   "name": "python3"
  },
  "language_info": {
   "codemirror_mode": {
    "name": "ipython",
    "version": 3
   },
   "file_extension": ".py",
   "mimetype": "text/x-python",
   "name": "python",
   "nbconvert_exporter": "python",
   "pygments_lexer": "ipython3",
   "version": "3.7.3"
  }
 },
 "nbformat": 4,
 "nbformat_minor": 2
}
