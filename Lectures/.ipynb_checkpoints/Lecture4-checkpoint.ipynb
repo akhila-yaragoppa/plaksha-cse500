{
 "cells": [
  {
   "cell_type": "markdown",
   "metadata": {
    "slideshow": {
     "slide_type": "slide"
    }
   },
   "source": [
    "# Introduction to Computation and Python Programming\n",
    "\n",
    "## Lecture 3"
   ]
  },
  {
   "cell_type": "markdown",
   "metadata": {
    "slideshow": {
     "slide_type": "slide"
    }
   },
   "source": [
    "### Today\n",
    "----------\n",
    "\n",
    "- Structuring Programs and Abstraction\n",
    "- Functions\n",
    "- Scoping\n",
    "- Specifications\n"
   ]
  },
  {
   "cell_type": "markdown",
   "metadata": {},
   "source": [
    "### Going beyond what we have learned so far\n",
    "\n",
    "- Take the example of bisection search - a sequence of instructions for the specific problem\n",
    "- It lacks **general utility**\n",
    "- The only way to reuse this is to copy and paste - lots of code\n",
    "- What if we want to change something (epsilon, say) or there is a bug - have to solve in many places\n",
    "- More code is more potential for errors\n",
    "- Goal - Generalize and reuse code: Python provides **functions** for this purpose"
   ]
  },
  {
   "cell_type": "markdown",
   "metadata": {},
   "source": [
    "### ABSTRACTION\n",
    "\n",
    "[What is abstraction in computer science](https://en.wikipedia.org/wiki/Abstraction_(computer_science) \"Wikipedia\") \n",
    "\n",
    "In software engineering and computer science, abstraction is:\n",
    "\n",
    "- the process of removing physical, spatial, or temporal details[2] or attributes in the study of objects or systems in order to focus attention on details of higher importance,[3] it is also very similar in nature to the process of generalization;\n",
    "- the creation of abstract concept-objects which are created by mirroring common features or attributes from various non-abstract objects or systems of study[3] — the result of the process of abstraction."
   ]
  },
  {
   "cell_type": "markdown",
   "metadata": {},
   "source": [
    "### Create Structure with FUNCTIONAL DECOMPOSITION\n",
    "\n",
    "- Reusable pieces / chunks of code called **functions**\n",
    "- Functions don't run until they are **called** or **invoked**\n",
    "- Functions are **black boxes** - cannot see details; do not *want* to see details; hide tedious coding details\n",
    "- Achieve abstraction with **function specifications** or **docstrings**"
   ]
  },
  {
   "cell_type": "markdown",
   "metadata": {},
   "source": [
    "### FUNCTIONS\n",
    "\n",
    "```python\n",
    "def name_of_function (list of formal parameters):\n",
    "    body of function\n",
    "```\n",
    "\n",
    "- has a name\n",
    "- has parameters (0 or more)\n",
    "- has a docstring (optional but recommended)\n",
    "- has a body\n",
    "- returns something"
   ]
  },
  {
   "cell_type": "markdown",
   "metadata": {},
   "source": [
    "### PARAMETERS\n",
    "\n",
    "- provide **lambda abstraction** - that means that the functions manipulate *whatever* the **caller** chooses to use as actual parameters\n",
    "- **positional** arguments - bound by position of the formal parameters in the function definition\n",
    "- **keyword** arguments - bound by name of the formal parameters\n",
    "- parameters can have default values"
   ]
  },
  {
   "cell_type": "markdown",
   "metadata": {},
   "source": [
    "### SCOPING\n",
    "\n",
    "- Each function defines a new **name space**, also called a **scope**\n",
    "- Contains formal **parameters** and any **local variables**\n",
    "- At the top level there is a **symbol table** to keep track of all names defined at that level and their current bindings\n",
    "- When a function is calle, a new symbol table (a **stack frame**) is created to keep track of names and their bindings **within the function**\n",
    "- If this function calls another function, yet another stack frame is created\n",
    "- When the function completes, the stack frame goes away"
   ]
  },
  {
   "cell_type": "markdown",
   "metadata": {},
   "source": [
    "### SPECIFICATION\n",
    "\n",
    "Specification defines a contract between the caller and the implementer of the function:\n",
    "- **Assumptions** or conditions to be met by the caller\n",
    "- **Guarantees** that are met by the function\n",
    "\n",
    "\n",
    "**DECOMPOSITION** creates structure. **ABSTRACTION** hides detail\n"
   ]
  },
  {
   "cell_type": "code",
   "execution_count": null,
   "metadata": {},
   "outputs": [],
   "source": []
  }
 ],
 "metadata": {
  "celltoolbar": "Slideshow",
  "kernelspec": {
   "display_name": "Python 3",
   "language": "python",
   "name": "python3"
  },
  "language_info": {
   "codemirror_mode": {
    "name": "ipython",
    "version": 3
   },
   "file_extension": ".py",
   "mimetype": "text/x-python",
   "name": "python",
   "nbconvert_exporter": "python",
   "pygments_lexer": "ipython3",
   "version": "3.7.3"
  }
 },
 "nbformat": 4,
 "nbformat_minor": 2
}
