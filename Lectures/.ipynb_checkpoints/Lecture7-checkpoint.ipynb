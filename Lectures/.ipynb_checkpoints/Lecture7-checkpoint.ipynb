{
 "cells": [
  {
   "cell_type": "markdown",
   "metadata": {
    "slideshow": {
     "slide_type": "slide"
    }
   },
   "source": [
    "# Introduction to Computation and Python Programming\n",
    "\n",
    "## Lecture 7"
   ]
  },
  {
   "cell_type": "markdown",
   "metadata": {
    "slideshow": {
     "slide_type": "slide"
    }
   },
   "source": [
    "### Today\n",
    "----------\n",
    "\n",
    "- Algorithmic Complexity"
   ]
  },
  {
   "cell_type": "markdown",
   "metadata": {},
   "source": [
    "### Computational Complexity\n",
    "\n",
    "How long will the following function take to run?\n",
    "\n",
    "```python\n",
    "def f(i):\n",
    "    \"\"\"Assumes i is an int and i > 0\"\"\"\n",
    "    answer = 1\n",
    "    while i >= 1:\n",
    "        answer *= i\n",
    "        i -= 1\n",
    "    return answer\n",
    "```\n"
   ]
  },
  {
   "cell_type": "markdown",
   "metadata": {},
   "source": [
    "### How to Measure\n",
    "\n",
    "- measure with a **timer**\n",
    "- **count** the operations\n",
    "- abstract notion of **order of growth**\n",
    "\n"
   ]
  },
  {
   "cell_type": "markdown",
   "metadata": {},
   "source": [
    "### Timing\n",
    "\n",
    "- use time module\n",
    "- see code\n",
    "- GOAL: to evaluate different algorithms\n",
    "- running time **varies between algorithms** **&#x2611;**\n",
    "- running time **varies between Python implementations** **&#x2612;**\n",
    "- running time **varies between computers** **&#x2612;**\n",
    "- running time is **not predictable** based on small imputs **&#x2612;**\n",
    "- time varies for different inputs but cannot really express a relationship between inputs and time **&#x2612;**\n"
   ]
  },
  {
   "cell_type": "markdown",
   "metadata": {},
   "source": [
    "### Counting Operations\n",
    "\n",
    "- see code\n",
    "- Assume each line of code takes one unit of time\n",
    "- Then running time of this function is:\n",
    "\\begin{equation*}\n",
    "1000 + x + 2x^2\n",
    "\\end{equation*}\n",
    "---\n",
    "- f(10) = 1210\n",
    "- f(1000) = 2002000\n",
    "- For small values of x the constant term dominates\n",
    "---\n",
    "- GOAL: to evaluate different algorithms\n",
    "- count **depends on algorithm** **&#x2611;**\n",
    "- count **depends on implementations** **&#x2612;**\n",
    "- count **independent of computers** **&#x2611;**\n",
    "- no clear definition of **which operations** to count **&#x2612;**\n",
    "- count varies for different inputs and can come up with a relationship between inputs and count **&#x2611;**"
   ]
  },
  {
   "cell_type": "markdown",
   "metadata": {},
   "source": [
    "### We need a better way\n",
    "\n",
    "- timing and counting **evaluate implementations**\n",
    "- timing **evaluates machines**\n",
    "<br><br>\n",
    "- want to **evaluate algorithm**\n",
    "- want to **evaluate scalability**\n",
    "- want to **evaluate in terms of input size**"
   ]
  },
  {
   "cell_type": "markdown",
   "metadata": {},
   "source": [
    "### A better way\n",
    "- Focus on counting but ignore small variations in implementation (does a loop have 3 or 5 operations)\n",
    "- Focus on how long the algorithm takes on very large inputs\n",
    "- In the example, do we care that the inner loop takes $x^2$ or $2x^2$\n",
    "- We should probably look for a more efficient algorithm\n",
    "---\n",
    "Rules of Thumb:\n",
    "- If the runnning time is the sum of multiple terms, keep the one with the largest growth rate, and drop the others\n",
    "- If the remaining term is a product, drop any constants\n",
    "---\n",
    "This is called the **\"Big O\"** notation\n",
    "- Asymptotic upper bound on the growth of the function (called **order of growth**)\n",
    "    - e.g. $f(x) \\in O(x^2)$ means that the function f grows no faster than a quadratic polynomial $x^2$, in an asymptotic sense\n",
    "   "
   ]
  },
  {
   "cell_type": "markdown",
   "metadata": {},
   "source": [
    "### Types of Orders of Growth or Complexity Classes\n",
    "\n",
    "![complexity classes](diagrams/complexity-classes.png)\n",
    "\n",
    "|Complexity Classes||\n",
    "|---|:---|\n",
    "|$O(1)$|Constant Time|\n",
    "|$O(log n)$|Logarithmic Time|\n",
    "|$O(n)$|Linear Time|\n",
    "|$O(n log n)$|Log-Linear Time|\n",
    "|$O(n^c)$|Polynomial Time|\n",
    "|$O(c^n)$|Exponential Time|"
   ]
  },
  {
   "cell_type": "markdown",
   "metadata": {},
   "source": [
    "### Combining Complexity Classes\n",
    "\n",
    "#### Law of Addition for O()\n",
    "- used with **sequential** statements\n",
    "- $O(f(n)) + O(g(n)) = O(f(n) + g(n))$\n",
    "- e.g. <br>\n",
    "```python\n",
    "for i in range(n):\n",
    "    print('a')\n",
    "for j in range(n*n):\n",
    "    print('b')\n",
    "```\n",
    "- $O(n) + O(n*n) = O(n+n^2) = O(n^2)$\n",
    "---\n",
    "#### Law of multiplication for O()\n",
    "- used with **nested** statements / loops\n",
    "- $O(f(n)) * O(g(n)) = O(f(n)*g(n))$\n",
    "- e.g. <br>\n",
    "```python\n",
    "for i in range(n):\n",
    "    for j in range(n):\n",
    "        print('a')\n",
    "```\n",
    "- $O(n) * O(n) = O(n*n) = O(n^2)$"
   ]
  },
  {
   "cell_type": "markdown",
   "metadata": {},
   "source": [
    "### Complexity Growth\n",
    "\n",
    "![Complexity Growth](diagrams/complexity-growth.png)\n",
    "\n"
   ]
  },
  {
   "cell_type": "markdown",
   "metadata": {},
   "source": [
    "### Linear Complexity\n",
    "\n",
    " Simple iterative loop algorithms are typically linear in complexity\n",
    " \n",
    " ```python\n",
    "def linear_search(L, e):\n",
    "    for i in range(len(L)):\n",
    "        if e == L[i]:\n",
    "            return True\n",
    "    return False\n",
    "```\n",
    "\n",
    "- must look through all elements to decide it's not there\n",
    "- $O(len(L))$ for the loop * $O(1)$ to test if e == L[i]\n",
    "- Overall complexity is $O(n)$ where $n$ is $len(L)$"
   ]
  },
  {
   "cell_type": "markdown",
   "metadata": {},
   "source": [
    "### Sorted List - Linear Search\n",
    "\n",
    "```python\n",
    "def linear_search_sorted(L, e):\n",
    "    for i n range(len(L)):\n",
    "        if L[i] == e:\n",
    "            return True\n",
    "        if L[i] > e:\n",
    "            return False\n",
    "    return False\n",
    "```\n",
    "\n",
    "- must only look until reach a number greater than e\n",
    "- $O(len(L))$ for the loop * $O(1)$ to test if e == L[i]\n",
    "- overall complexity is still $O(n)$ - where n is len(L) because worst case scenario is no different from unsorted\n",
    "- although order of growth is the same, run time may differ for the two search methods\n"
   ]
  },
  {
   "cell_type": "markdown",
   "metadata": {},
   "source": [
    "### Quadratic Complexity\n",
    "\n",
    "Loops that have loops in them\n",
    "<br>\n",
    "e.g. determine if one list is subset of second, i.e. every element of first, appears in second (assume no duplicates)\n",
    "\n",
    "```python\n",
    "def isSubset(L1, L2):\n",
    "    for e1 in L1:\n",
    "        matched = False\n",
    "        for e2 in L2:\n",
    "            if e1 == e2:\n",
    "                matched = True\n",
    "                break\n",
    "        if not matched:\n",
    "            return False\n",
    "    return True\n",
    "```\n",
    "\n",
    "- outer loop is executed len(L1) times\n",
    "- each iteration will execute inner loop up to len(L2) times, with constant number of operations\n",
    "- $O(len(L1)*len(L2))$\n",
    "- worst case when L1 and L2 same length, all of the elements of L1 in L2\n",
    "- $O(len(L1)^2)$\n"
   ]
  },
  {
   "cell_type": "markdown",
   "metadata": {},
   "source": [
    "### Another example of Quadratic Complexity\n",
    "\n",
    "find intersection of two lists, return a list with each element appearing only once\n",
    "\n",
    "```python\n",
    "def intersect(L1, L2):\n",
    "    tmp = []\n",
    "    for e1 in L1:\n",
    "        for e2 in L2:\n",
    "            if e1 == e2:\n",
    "                tmp.append(e1)\n",
    "    # now to dedupe\n",
    "    res = []\n",
    "    for e in tmp:\n",
    "        if not (e in res):\n",
    "            res.append(e)\n",
    "    return res\n",
    "```\n",
    "\n",
    "- first nested loop takes $len(L1)*len(L2)$ steps\n",
    "- second loop takes at most $len(L1)$ steps\n",
    "- determining if element in list might take $len(L1)$ steps\n",
    "- if we assume lists are roughly of the same length, then\n",
    "    - $O(len(L1)^2)$"
   ]
  },
  {
   "cell_type": "code",
   "execution_count": null,
   "metadata": {},
   "outputs": [],
   "source": []
  }
 ],
 "metadata": {
  "celltoolbar": "Slideshow",
  "kernelspec": {
   "display_name": "Python 3",
   "language": "python",
   "name": "python3"
  },
  "language_info": {
   "codemirror_mode": {
    "name": "ipython",
    "version": 3
   },
   "file_extension": ".py",
   "mimetype": "text/x-python",
   "name": "python",
   "nbconvert_exporter": "python",
   "pygments_lexer": "ipython3",
   "version": "3.7.3"
  }
 },
 "nbformat": 4,
 "nbformat_minor": 2
}
