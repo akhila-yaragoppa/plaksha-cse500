{
 "cells": [
  {
   "cell_type": "markdown",
   "metadata": {
    "slideshow": {
     "slide_type": "slide"
    }
   },
   "source": [
    "# Introduction to Computation and Python Programming\n",
    "\n",
    "## Lecture 1"
   ]
  },
  {
   "cell_type": "markdown",
   "metadata": {
    "slideshow": {
     "slide_type": "slide"
    }
   },
   "source": [
    "### Today\n",
    "----------\n",
    "\n",
    "- Course Info and Logistics\n",
    "- Python Basics"
   ]
  },
  {
   "cell_type": "markdown",
   "metadata": {
    "slideshow": {
     "slide_type": "slide"
    }
   },
   "source": [
    "### Course Info\n",
    "\n",
    "#### Grading Policy\n",
    "\n",
    "- Assignments - 70%\n",
    "- Quizzes/Tests - 30%\n"
   ]
  },
  {
   "cell_type": "markdown",
   "metadata": {
    "slideshow": {
     "slide_type": "slide"
    }
   },
   "source": [
    "#### Course policies\n",
    "\n",
    "- Assignments must be done individually. I will not run code similarity but work on trust\n",
    "- If you are new to programming, practice independently. There is no substitute to practice and don't think you can learn passively just coming to lectures"
   ]
  },
  {
   "cell_type": "markdown",
   "metadata": {
    "slideshow": {
     "slide_type": "slide"
    }
   },
   "source": [
    "### TOPICS\n",
    "- *Data structures* to represent knowledge\n",
    "- *Iteration* and *Recursion*\n",
    "- *Abstraction* using functions and types\n",
    "- *Modularize* using classes\n",
    "- *Algorithms* for searching and sorting\n",
    "- *Complexity* of algorithms\n",
    "- A few important Python *Modules*"
   ]
  },
  {
   "cell_type": "markdown",
   "metadata": {
    "slideshow": {
     "slide_type": "slide"
    }
   },
   "source": [
    "### Logistics\n",
    "\n",
    "- I will send out links to the Lecture Slides and the code examples each day - download and read them again\n",
    "- Assignments will be on cse500assign.plaksha.org\n",
    "- ssh into it and set your password right away - you will need it to submit assignments\n",
    "- Additionally, I recommend installing Python on your own computer and practicing. You can use Anaconda distribution for your platform. Install for Python 3.7"
   ]
  },
  {
   "cell_type": "markdown",
   "metadata": {
    "slideshow": {
     "slide_type": "slide"
    }
   },
   "source": [
    "### Knowledge\n",
    "\n",
    "**Declarative** - a statement of facts\n",
    "\n",
    "e.g. the square root of a number x is a number y such that y \\* y = x\n",
    "Does not say anything about how to find the square root of x\n",
    "\n",
    "**Imperative** - a recipe or a howto\n",
    "\n",
    "e.g. Heron of Alexandria's method of computing the square root of x:\n",
    "\n",
    "- start with a guess, g\n",
    "- if g \\* g is close to x, stop; g is the answer\n",
    "- create a new guess : average of g and x/g i.e. (g + x / g) / 2\n",
    "- call this new value g and repeat the process above\n",
    "\n",
    "| g | g \\* g | x / g | (g + x / g) / 2|\n",
    "|---|--------|-------|----------------|\n",
    "| 3 | 9 | 16 / 3 | 4.17 |\n",
    "| 4.17 | 17.36 | 3.837 | 4.0035 |\n",
    "| 4.0035 | 16.0277 | 3.997 | 4.000002 |"
   ]
  },
  {
   "cell_type": "markdown",
   "metadata": {
    "slideshow": {
     "slide_type": "slide"
    }
   },
   "source": [
    "### A recipe or an Algorithm\n",
    "\n",
    "1. sequence of simple **steps**\n",
    "2. **flow of control** process that specifies when each step is executed\n",
    "3. a means of determining **when to stop**"
   ]
  },
  {
   "cell_type": "markdown",
   "metadata": {
    "slideshow": {
     "slide_type": "skip"
    }
   },
   "source": [
    "### SKIP: Syntax vs Static Semantics vs Semantics"
   ]
  },
  {
   "cell_type": "markdown",
   "metadata": {
    "slideshow": {
     "slide_type": "skip"
    }
   },
   "source": [
    "### SKIP: A bit about different types of programming Languages\n",
    "- High level, low level\n",
    "- General purpose or for a specific domain\n",
    "- Interpreted vs compiled\n",
    "\n",
    "History of Python"
   ]
  },
  {
   "cell_type": "markdown",
   "metadata": {
    "slideshow": {
     "slide_type": "slide"
    }
   },
   "source": [
    "### Python Programs\n",
    "\n",
    "**Command** or **Statement**: an instruction to the interpreter to do something specific\n",
    "\n",
    "e.g. print ('Be yourself; everyone else is already taken - Wilde')\n",
    "\n",
    "**Program** often, in Python called a **Script**: a sequence of definitions and commands"
   ]
  },
  {
   "cell_type": "markdown",
   "metadata": {
    "slideshow": {
     "slide_type": "slide"
    }
   },
   "source": [
    "### Objects\n",
    "\n",
    "- **scalar** - cannot be subdivided\n",
    "    - int\n",
    "    - float\n",
    "    - bool\n",
    "    - None\n",
    "- **non scalar** - have internal structure e.g. strings\n"
   ]
  },
  {
   "cell_type": "markdown",
   "metadata": {
    "slideshow": {
     "slide_type": "slide"
    }
   },
   "source": [
    " ### Code ---------------->\n"
   ]
  },
  {
   "cell_type": "markdown",
   "metadata": {
    "slideshow": {
     "slide_type": "slide"
    }
   },
   "source": [
    "### Expressions\n",
    "\n",
    "**combine objects and operators** to form expressions\n",
    "\n",
    "an expression has a **value** which has a type\n",
    "\n",
    "syntax for expression:\n",
    "\n",
    "`<object> <operator> <object>`"
   ]
  },
  {
   "cell_type": "markdown",
   "metadata": {
    "slideshow": {
     "slide_type": "slide"
    }
   },
   "source": [
    " ### Code ---------------->\n"
   ]
  }
 ],
 "metadata": {
  "celltoolbar": "Slideshow",
  "kernelspec": {
   "display_name": "Python 3",
   "language": "python",
   "name": "python3"
  },
  "language_info": {
   "codemirror_mode": {
    "name": "ipython",
    "version": 2
   },
   "file_extension": ".py",
   "mimetype": "text/x-python",
   "name": "python",
   "nbconvert_exporter": "python",
   "pygments_lexer": "ipython2",
   "version": "2.7.18rc1"
  }
 },
 "nbformat": 4,
 "nbformat_minor": 2
}
