{
 "cells": [
  {
   "cell_type": "markdown",
   "metadata": {
    "slideshow": {
     "slide_type": "slide"
    }
   },
   "source": [
    "# Introduction to Computation and Python Programming\n",
    "\n",
    "## Lecture 10"
   ]
  },
  {
   "cell_type": "markdown",
   "metadata": {
    "slideshow": {
     "slide_type": "slide"
    }
   },
   "source": [
    "### Today\n",
    "----------\n",
    "\n",
    "- Numpy"
   ]
  },
  {
   "cell_type": "markdown",
   "metadata": {
    "slideshow": {
     "slide_type": "slide"
    }
   },
   "source": [
    "### Vectorization\n",
    "\n",
    "- Numpy is all about **Vectorization**\n",
    "- Start thinking in terms of homogeneous, multidimensional arrays - **vectors**\n",
    "- see code - start with an example"
   ]
  },
  {
   "cell_type": "markdown",
   "metadata": {
    "slideshow": {
     "slide_type": "slide"
    }
   },
   "source": [
    "### Itertools\n",
    "\n",
    "“module \\[that\\] implements a number of iterator building blocks inspired by constructs from APL, Haskell, and SML… Together, they form an ‘iterator algebra’ making it possible to construct specialized tools succinctly and efficiently in pure Python.”\n",
    "\n",
    "- a module for creating complex iterators\n",
    "- iterable - any Python object that implements `__iter__()` or `__getitem__()`. lists are iterables\n",
    "- `iter()` built-in function returns an `iterator` when called on an iterable\n",
    "- iterators are composable \n",
    "- \"iterator algebra\" - collection of building blocks that can be combined to form specialized \"data pipelines\"\n"
   ]
  },
  {
   "cell_type": "markdown",
   "metadata": {
    "slideshow": {
     "slide_type": "slide"
    }
   },
   "source": [
    "### Itertools - example\n",
    "\n",
    "- `better_grouper()` is better because it can take any iterable as an argument (even infinite iterators)\n",
    "- by returning an iterator - can process large iterables uses much less memory\n",
    "- in our example ~630x less memory, ~4x less time\n"
   ]
  },
  {
   "cell_type": "markdown",
   "metadata": {
    "slideshow": {
     "slide_type": "slide"
    }
   },
   "source": [
    "### Random Walk with Iterators\n",
    "\n",
    "- `accumulate` - make an iterator that returns accumulated sums, or accumulated results of other binary functions\n",
    "- No loops\n",
    "- Gained 85% of computation time compared to previous version without `itertools`"
   ]
  },
  {
   "cell_type": "markdown",
   "metadata": {
    "slideshow": {
     "slide_type": "slide"
    }
   },
   "source": [
    "### Numpy Vectorization\n",
    "\n",
    "- Easy to translate from **`itertools`** to **`numpy`**\n",
    "- 500x gain in computation time"
   ]
  },
  {
   "cell_type": "markdown",
   "metadata": {
    "slideshow": {
     "slide_type": "slide"
    }
   },
   "source": [
    "### Numpy Arrays\n",
    "\n",
    "- A grid of values, all of the same type, indexed by a tuple of nonnegative integers\n",
    "- Number of dimensions is the **rank** of the array\n",
    "- Size along each dimension is the **shape** of the array\n",
    "- see code\n",
    "- Numpy provides many functions to create arrays\n",
    "- [Array Indexing](https://docs.scipy.org/doc/numpy/reference/arrays.indexing.html)\n",
    "    - Slicing: Similar to Python lists - specify a slice for each dimension of the array\n",
    "        - basic syntax: `start:stop:step`\n",
    "        - Unlike slicing a Python list, in numpy, a slice is a view into the array - modifying it will modify the original array\n",
    "    - Integer Indexing: Unlike slice (which is always a subarray of the original array), integer indexing can be used to create arbitrary arrays\n",
    "        - interesting trick: mutating a single element in each row of a matrix (see code)"
   ]
  },
  {
   "cell_type": "markdown",
   "metadata": {
    "slideshow": {
     "slide_type": "slide"
    }
   },
   "source": [
    "### Datatypes\n",
    "\n",
    "- Every numpy array is homogeneous (same type of elements)\n",
    "- Numpy provides a large set of numeric datatypes\n",
    "- Numpy tries to guess the datatype but can also take explicit data type as an optional argument"
   ]
  },
  {
   "cell_type": "markdown",
   "metadata": {
    "slideshow": {
     "slide_type": "slide"
    }
   },
   "source": [
    "### Array Math\n",
    "\n",
    "- Basic math functions operate elementwise on arrays\n",
    "- Available as operator overloads and as functions"
   ]
  },
  {
   "cell_type": "markdown",
   "metadata": {
    "slideshow": {
     "slide_type": "slide"
    }
   },
   "source": [
    "### Other Array Manipulations\n",
    "\n",
    "- Reshape arrays e.g. Transform using the `T` attribute of an array"
   ]
  },
  {
   "cell_type": "markdown",
   "metadata": {
    "slideshow": {
     "slide_type": "slide"
    }
   },
   "source": [
    "### Broadcasting\n",
    "\n",
    "- Work with arrays of different shapes\n",
    "- Use smaller array multiple times to performn some operation on larger array\n",
    "- Rules of Numpy broadcasting:\n",
    "    - If the arrays do not have the same rank, prepend the shape of the lower rank array with 1s until both shapes have the same length\n",
    "    - The two arrays are said to be compatible in a dimension if they have the same size in the dimension, or if one of the arrays has 1 size in that dimension\n",
    "    - The arrays can be broadcast together if they are compatible in all dimensions\n",
    "    - After broadcasting, each array behaves as if it had shape equal to the elementwise maximum of shapes of the two input arrays\n",
    "    - In any dimension where one array at size 1 and the other array had size greater than 1, the first array behaves as if it were copied along that dimension\n",
    "- Functions that support broadcasting are known as **universal functions**"
   ]
  }
 ],
 "metadata": {
  "celltoolbar": "Slideshow",
  "kernelspec": {
   "display_name": "Python 3",
   "language": "python",
   "name": "python3"
  },
  "language_info": {
   "codemirror_mode": {
    "name": "ipython",
    "version": 3
   },
   "file_extension": ".py",
   "mimetype": "text/x-python",
   "name": "python",
   "nbconvert_exporter": "python",
   "pygments_lexer": "ipython3",
   "version": "3.7.3"
  }
 },
 "nbformat": 4,
 "nbformat_minor": 2
}
