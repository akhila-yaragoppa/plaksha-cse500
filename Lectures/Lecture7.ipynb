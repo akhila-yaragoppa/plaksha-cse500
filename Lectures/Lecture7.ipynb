{
 "cells": [
  {
   "cell_type": "markdown",
   "metadata": {
    "slideshow": {
     "slide_type": "slide"
    }
   },
   "source": [
    "# Introduction to Computation and Python Programming\n",
    "\n",
    "## Lecture 7"
   ]
  },
  {
   "cell_type": "markdown",
   "metadata": {
    "slideshow": {
     "slide_type": "slide"
    }
   },
   "source": [
    "### Today\n",
    "----------\n",
    "\n",
    "- Algorithmic Complexity"
   ]
  },
  {
   "cell_type": "markdown",
   "metadata": {
    "slideshow": {
     "slide_type": "slide"
    }
   },
   "source": [
    "### Computational Complexity\n",
    "\n",
    "How long will the following function take to run?\n",
    "\n",
    "```python\n",
    "def f(i):\n",
    "    \"\"\"Assumes i is an int and i > 0\"\"\"\n",
    "    answer = 1\n",
    "    while i >= 1:\n",
    "        answer *= i\n",
    "        i -= 1\n",
    "    return answer\n",
    "```\n"
   ]
  },
  {
   "cell_type": "markdown",
   "metadata": {
    "slideshow": {
     "slide_type": "slide"
    }
   },
   "source": [
    "### How to Measure\n",
    "\n",
    "- measure with a **timer**\n",
    "- **count** the operations\n",
    "- abstract notion of **order of growth**\n",
    "\n"
   ]
  },
  {
   "cell_type": "markdown",
   "metadata": {
    "slideshow": {
     "slide_type": "slide"
    }
   },
   "source": [
    "### Timing\n",
    "\n",
    "- use time module\n",
    "- see code\n",
    "- GOAL: to evaluate different algorithms\n",
    "- running time **varies between algorithms** **&#x2611;**\n",
    "- running time **varies between Python implementations** **&#x2612;**\n",
    "- running time **varies between computers** **&#x2612;**\n",
    "- running time is **not predictable** based on small inputs **&#x2612;**\n",
    "- time varies for different inputs but cannot really express a relationship between inputs and time **&#x2612;**\n"
   ]
  },
  {
   "cell_type": "markdown",
   "metadata": {
    "slideshow": {
     "slide_type": "slide"
    }
   },
   "source": [
    "### Counting Operations\n",
    "\n",
    "- see code\n",
    "- Assume each line of code takes one unit of time\n",
    "- Then running time of this function is:\n",
    "\\begin{equation*}\n",
    "1000 + x + 2x^2\n",
    "\\end{equation*}\n",
    "---\n",
    "- f(10) = 1210\n",
    "- f(1000) = 2002000\n",
    "- For small values of x the constant term dominates\n",
    "---\n",
    "- GOAL: to evaluate different algorithms\n",
    "- count **depends on algorithm** **&#x2611;**\n",
    "- count **depends on implementations** **&#x2612;**\n",
    "- count **independent of computers** **&#x2611;**\n",
    "- no clear definition of **which operations** to count **&#x2612;**\n",
    "- count varies for different inputs and can come up with a relationship between inputs and count **&#x2611;**"
   ]
  },
  {
   "cell_type": "markdown",
   "metadata": {
    "slideshow": {
     "slide_type": "slide"
    }
   },
   "source": [
    "### We need a better way\n",
    "\n",
    "- timing and counting **evaluate implementations**\n",
    "- timing **evaluates machines**\n",
    "<br><br>\n",
    "- want to **evaluate algorithm**\n",
    "- want to **evaluate scalability**\n",
    "- want to **evaluate in terms of input size**"
   ]
  },
  {
   "cell_type": "markdown",
   "metadata": {
    "slideshow": {
     "slide_type": "slide"
    }
   },
   "source": [
    "### A better way\n",
    "- Focus on counting but ignore small variations in implementation (does a loop have 3 or 5 operations)\n",
    "- Focus on how long the algorithm takes on very large inputs\n",
    "- In the example, do we care that the inner loop takes $x^2$ or $2x^2$\n",
    "- We should probably look for a more efficient algorithm\n",
    "---\n",
    "Rules of Thumb:\n",
    "- If the runnning time is the sum of multiple terms, keep the one with the largest growth rate, and drop the others\n",
    "- If the remaining term is a product, drop any constants\n",
    "---\n",
    "This is called the **\"Big O\"** notation\n",
    "- Asymptotic upper bound on the growth of the function (called **order of growth**)\n",
    "    - e.g. $f(x) \\in O(x^2)$ means that the function f grows no faster than a quadratic polynomial $x^2$, in an asymptotic sense\n",
    "   "
   ]
  },
  {
   "cell_type": "markdown",
   "metadata": {
    "slideshow": {
     "slide_type": "slide"
    }
   },
   "source": [
    "### Types of Orders of Growth or Complexity Classes\n",
    "\n",
    "![complexity classes](diagrams/complexity-classes.png)\n",
    "\n",
    "|Complexity Classes||\n",
    "|---|:---|\n",
    "|$O(1)$|Constant Time|\n",
    "|$O(log n)$|Logarithmic Time|\n",
    "|$O(n)$|Linear Time|\n",
    "|$O(n log n)$|Log-Linear Time|\n",
    "|$O(n^c)$|Polynomial Time|\n",
    "|$O(c^n)$|Exponential Time|"
   ]
  },
  {
   "cell_type": "markdown",
   "metadata": {
    "slideshow": {
     "slide_type": "slide"
    }
   },
   "source": [
    "### Combining Complexity Classes\n",
    "\n",
    "#### Law of Addition for O()\n",
    "- used with **sequential** statements\n",
    "- $O(f(n)) + O(g(n)) = O(f(n) + g(n))$\n",
    "- e.g. <br>\n",
    "```python\n",
    "for i in range(n):\n",
    "    print('a')\n",
    "for j in range(n*n):\n",
    "    print('b')\n",
    "```\n",
    "- $O(n) + O(n*n) = O(n+n^2) = O(n^2)$\n",
    "---\n",
    "#### Law of multiplication for O()\n",
    "- used with **nested** statements / loops\n",
    "- $O(f(n)) * O(g(n)) = O(f(n)*g(n))$\n",
    "- e.g. <br>\n",
    "```python\n",
    "for i in range(n):\n",
    "    for j in range(n):\n",
    "        print('a')\n",
    "```\n",
    "- $O(n) * O(n) = O(n*n) = O(n^2)$"
   ]
  },
  {
   "cell_type": "markdown",
   "metadata": {
    "slideshow": {
     "slide_type": "slide"
    }
   },
   "source": [
    "### Complexity Growth\n",
    "\n",
    "![Complexity Growth](diagrams/complexity-growth.png)\n",
    "\n"
   ]
  },
  {
   "cell_type": "markdown",
   "metadata": {
    "slideshow": {
     "slide_type": "slide"
    }
   },
   "source": [
    "### Linear Complexity\n",
    "\n",
    " Simple iterative loop algorithms are typically linear in complexity\n",
    " \n",
    " ```python\n",
    "def linear_search(L, e):\n",
    "    for i in range(len(L)):\n",
    "        if e == L[i]:\n",
    "            return True\n",
    "    return False\n",
    "```\n",
    "\n",
    "- must look through all elements to decide it's not there\n",
    "- $O(len(L))$ for the loop * $O(1)$ to test if e == L[i]\n",
    "- Overall complexity is $O(n)$ where $n$ is $len(L)$"
   ]
  },
  {
   "cell_type": "markdown",
   "metadata": {
    "slideshow": {
     "slide_type": "slide"
    }
   },
   "source": [
    "### Sorted List - Linear Search\n",
    "\n",
    "```python\n",
    "def linear_search_sorted(L, e):\n",
    "    for i n range(len(L)):\n",
    "        if L[i] == e:\n",
    "            return True\n",
    "        if L[i] > e:\n",
    "            return False\n",
    "    return False\n",
    "```\n",
    "\n",
    "- must only look until reach a number greater than e\n",
    "- $O(len(L))$ for the loop * $O(1)$ to test if e == L[i]\n",
    "- overall complexity is still $O(n)$ - where n is len(L) because worst case scenario is no different from unsorted\n",
    "- although order of growth is the same, run time may differ for the two search methods\n"
   ]
  },
  {
   "cell_type": "markdown",
   "metadata": {
    "slideshow": {
     "slide_type": "slide"
    }
   },
   "source": [
    "### Quadratic Complexity\n",
    "\n",
    "Loops that have loops in them\n",
    "<br>\n",
    "e.g. determine if one list is subset of second, i.e. every element of first, appears in second (assume no duplicates)\n",
    "\n",
    "```python\n",
    "def isSubset(L1, L2):\n",
    "    for e1 in L1:\n",
    "        matched = False\n",
    "        for e2 in L2:\n",
    "            if e1 == e2:\n",
    "                matched = True\n",
    "                break\n",
    "        if not matched:\n",
    "            return False\n",
    "    return True\n",
    "```\n",
    "\n",
    "- outer loop is executed len(L1) times\n",
    "- each iteration will execute inner loop up to len(L2) times, with constant number of operations\n",
    "- $O(len(L1)*len(L2))$\n",
    "- worst case when L1 and L2 same length, all of the elements of L1 in L2\n",
    "- $O(len(L1)^2)$\n"
   ]
  },
  {
   "cell_type": "markdown",
   "metadata": {
    "slideshow": {
     "slide_type": "slide"
    }
   },
   "source": [
    "### Another example of Quadratic Complexity\n",
    "\n",
    "find intersection of two lists, return a list with each element appearing only once\n",
    "\n",
    "```python\n",
    "def intersect(L1, L2):\n",
    "    tmp = []\n",
    "    for e1 in L1:\n",
    "        for e2 in L2:\n",
    "            if e1 == e2:\n",
    "                tmp.append(e1)\n",
    "    # now to dedupe\n",
    "    res = []\n",
    "    for e in tmp:\n",
    "        if not (e in res):\n",
    "            res.append(e)\n",
    "    return res\n",
    "```\n",
    "\n",
    "- first nested loop takes $len(L1)*len(L2)$ steps\n",
    "- second loop takes at most $len(L1)$ steps\n",
    "- determining if element in list might take $len(L1)$ steps\n",
    "- if we assume lists are roughly of the same length, then\n",
    "    - $O(len(L1)^2)$"
   ]
  },
  {
   "cell_type": "markdown",
   "metadata": {
    "slideshow": {
     "slide_type": "slide"
    }
   },
   "source": [
    "### Logarithmic Complexity\n",
    "\n",
    "##### complexity grows as log of size of one of its inputs\n",
    "---\n",
    "Bisection Search is a good example (search for an element in a list that is ordered smallest to largest)\n",
    "- pick an index $i$ that divides the list in half\n",
    "- ask if $L[i] == e$\n",
    "- if not, ask if $L[i]$ is larger or smaller than $e$\n",
    "- depending on answer, search left or right half of $L$ for $e$\n",
    "<br><br>\n",
    "This is an example of **divide-and-conquer**\n",
    "- break into smaller version of problem (smaller list), plus some simple operations\n",
    "- answer to smaller version is answer to original problem\n",
    "<br><br>\n",
    "- finish looking through list when $i = n/2^i$ so, $i = log(n)$\n",
    "- complexity of recursion is **$O(log n)$ where $n$ is $len(L)$**"
   ]
  },
  {
   "cell_type": "markdown",
   "metadata": {
    "slideshow": {
     "slide_type": "slide"
    }
   },
   "source": [
    "### Bisection Search - 1\n",
    "\n",
    "```python\n",
    "def bisect_search1(L, e):\n",
    "    if L == []:\n",
    "        return False\n",
    "    elif len(L) == 1:\n",
    "        return L[0] == e\n",
    "    else:\n",
    "        half = len(L)//2\n",
    "        if L[half] > e:\n",
    "            return bisect_search1(L[:half], e)\n",
    "        else:\n",
    "            return bisect_search1(L[half:], e)\n",
    "```\n",
    "\n",
    "- $O(log\\ n)$ bisection search calls\n",
    "    - on each recursive call, size of range to be searched is cut in half\n",
    "    - if original range is of size $n$, in worst case down to range of size $1$ when $n/(2^k) = 1$; or when $k = log\\ n$\n",
    "- $O(n)$ for each bisection search call to copy list\n",
    "    - this is the cost to set up each call, so do this for each level of recursion\n",
    "- $O(log\\ n) * O(n) => O(n\\ log\\ n)$\n",
    "- if we are really careful, note that length of list to be copied is also halved on each recursive call\n",
    "    - turns out that total cost to copy is $O(n)$ and this dominates the $log\\ n$ cost due to recursive calls"
   ]
  },
  {
   "cell_type": "markdown",
   "metadata": {
    "slideshow": {
     "slide_type": "slide"
    }
   },
   "source": [
    "### Bisection Search - 2\n",
    "\n",
    "- still reduce size of problem by factor of two on each step\n",
    "- but just keep track of low and high portion of list to be searched\n",
    "- avoid copying the list\n",
    "- complexity of recursion is again $O(log\\ n)$ where $n$ is $len(L)$\n",
    "\n",
    "```python\n",
    "def bisect_search2(L, e):\n",
    "    def bisect_search_helper(L, e, low, high):\n",
    "        if high == low:\n",
    "            return L[low] == e\n",
    "        mid = (low + high)//2\n",
    "        if L[mid] == e:\n",
    "            return True\n",
    "        elif L[mid] > e:\n",
    "            if low == mid: #nothing left to search\n",
    "                return False\n",
    "            else:\n",
    "                return bisect_search_helper(L, e, low, mid - 1)\n",
    "        else:\n",
    "            return bisect_search_helper(L, e, mid+1, high)\n",
    "    if len(L) == 0:\n",
    "        return False\n",
    "    else:\n",
    "        return bisect_search_helper(L, e, 0, len(L) -1)\n",
    "```\n",
    "\n",
    "- $O(log\\ n)$ bisection search calls\n",
    "    - on each recursive call, size of range to be searched is cut in half\n",
    "    - if original range is of size $n$, in worst case down to range of size $1$ when $n/(2^k) = 1$; or when $k = log\\ n$\n",
    "- pass list and indices as parameters\n",
    "- list never copied, just re-passed as a pointer\n",
    "- thus $O(1)$ work on each recursive call\n",
    "- $O(log\\ n) * O(1) => O(log\\ n)$"
   ]
  },
  {
   "cell_type": "markdown",
   "metadata": {
    "slideshow": {
     "slide_type": "slide"
    }
   },
   "source": [
    "### Another example of Logarithmic Complexity\n",
    "\n",
    "```python\n",
    "def intToStr(i):\n",
    "    digits = '0123456789'\n",
    "    if i == 0:\n",
    "        return '0'\n",
    "    result = ''\n",
    "    while i > 0:\n",
    "        result = digits[i%10] + result\n",
    "        i = i//10\n",
    "    return result\n",
    "```\n",
    "\n",
    "- only have to look at loop as no function calls\n",
    "- within while loop, constant number of steps\n",
    "- how many times through loop?\n",
    "    - how many times can one divide $i$ by $10$?\n",
    "    - $O(log(i))$"
   ]
  },
  {
   "cell_type": "markdown",
   "metadata": {
    "slideshow": {
     "slide_type": "slide"
    }
   },
   "source": [
    "### Factorial - Iterative and Recursive\n",
    "\n",
    "```python\n",
    "def fact_iter(n):\n",
    "    prod = 1\n",
    "    for i in range(1, n+1):\n",
    "        prod *= i\n",
    "    return prod\n",
    "```\n",
    "- Overall $O(n)$ - $n$ times round loop, constant cost each time\n",
    "---\n",
    "<br><br>\n",
    "```python\n",
    "def fact_recur(n):\n",
    "    \"\"\"assume n >=0 \"\"\"\n",
    "    if n <= 1:\n",
    "        return 1\n",
    "    else:\n",
    "        return n * fact_recur(n - 1)\n",
    "```\n",
    "- computes factorial recursively\n",
    "- if you time it, may notice that it runs a bit slower than iterative version due to function calls\n",
    "- still $O(n)$ because the number of function calls is linear in $n$, and constant effort to set up call\n",
    "- **iterative and recursive factorial** implementations are the **same order of growth**"
   ]
  },
  {
   "cell_type": "markdown",
   "metadata": {
    "slideshow": {
     "slide_type": "slide"
    }
   },
   "source": [
    "### Exponential Complexity\n",
    "\n",
    "- recursive functions where more than one recursive call for each size of problem\n",
    "    - Towers of Hanoi\n",
    "- many important problems are inherently exponential\n",
    "    - unfortunate, as cost can be high\n",
    "    - will lead us to consider approximate solutions as may provide reasonable answer more quickly\n",
    "---\n",
    "Towers of Hanoi Complexity:\n",
    "- Let $t_{n}$ denote time to solve tower of size $n$\n",
    "- $t_{n} = 2t_{n-1} + 1$\n",
    "- $=2(2t_{n-2} + 1) + 1$\n",
    "- $=4t_{n-2} + 2 + 1$\n",
    "- $=4(2t_{n-3} + 1) + 2 + 1$\n",
    "- $=8t_{n-3} + 4 + 2 + 1$\n",
    "- $=2^{k}t_{n-k} + 2^{k-1} + ... + 4 + 2 + 1$\n",
    "- $=2^{n-1} + 2^{n-2} + ... + 4 + 2 + 1$\n",
    "- $=2^n -1$\n",
    "- so order of growth is $O(2^n)$"
   ]
  },
  {
   "cell_type": "markdown",
   "metadata": {
    "slideshow": {
     "slide_type": "slide"
    }
   },
   "source": [
    "### Exponential Complexity example - Power Sets\n",
    "\n",
    "- given a set of integers (with no repeats), want to generate the collection of all possible subsets - called the power set\n",
    "- ${1, 2, 3, 4}$ would generate:\n",
    "    - {},{1},{2},{3},{4},{1,2},{1,3},{1,4},{2,3},{2,4},{3,4},{1,2,3},{1,2,4},{1,3,4},{2,3,4},{1,2,3,4}\n",
    "- order does not matter:\n",
    "    - {},{1},{2},{1,2},{3},{1,3},{2,3},{1,2,3},{4},{1,4},{2,4},{1,2,4},{3,4},{1,3,4},{2,3,4},{1,2,3,4}\n",
    "\n",
    "---\n",
    "\n",
    "Concept:\n",
    "- we want to generate the powerset of integers from $1$ to $n$\n",
    "- assume we can generate the powerset of integers from $1$ to $n-1$\n",
    "- the first powerset ($1$ to $n$) contains all the sets from the smaller powerset and also, each of them with n added - so, it has twice the number of sets as the smaller powerset\n",
    "    - {},{1},{2},{1,2},{3},{1,3},{2,3},{1,2,3}, as well as:\n",
    "    - {4},{1,4},{2,4},{1,2,4},{3,4},{1,3,4},{2,3,4},{1,2,3,4}\n",
    "    \n",
    "---\n",
    "\n",
    "```python\n",
    "def genSubsets(L):\n",
    "    res = []\n",
    "    if len(L) == 0:\n",
    "        return [[]]\n",
    "    smaller = genSubsets(L[:-1])\n",
    "    extra = L[-1:]\n",
    "    new = []\n",
    "    for small in smaller:\n",
    "        new.append(small + extra)\n",
    "    return smaller + new\n",
    "```\n",
    "\n",
    "- assuming append is constant time\n",
    "- time includes time to solve smaller problem, plus time needed to make a copy of all elements in smaller problem\n",
    "- for a set of size $k$ there are $2^k$ cases\n",
    "- let $t_{n}$ denote time to solve problem of size $n$\n",
    "- let $s_{n}$ denote size of solution for problem of size $n$\n",
    "- $t_{n} = t_{n-1} + s_{n-1} + c$ (where c is some constant number of operations)\n",
    "- $t_{n} = t_{n-1} + 2^{n-1} + c$\n",
    "- &nbsp;&nbsp;&nbsp;&nbsp;&nbsp;&nbsp;$= t_{n-2} + 2^{n-2} + c + 2^{n-1} + c$\n",
    "- &nbsp;&nbsp;&nbsp;&nbsp;&nbsp;&nbsp;$= t_{n-k} + 2^{n-k} + ... + 2^{n-1} + kc$\n",
    "- &nbsp;&nbsp;&nbsp;&nbsp;&nbsp;&nbsp;$= t_{0} + 2^0 + .... + 2^{n-1} + nc$\n",
    "- &nbsp;&nbsp;&nbsp;&nbsp;&nbsp;&nbsp;$= 1 + 2^n + nc$\n",
    "- Thus computing power set is $O(2^n)$"
   ]
  },
  {
   "cell_type": "markdown",
   "metadata": {
    "slideshow": {
     "slide_type": "slide"
    }
   },
   "source": [
    "### Iterative and Recursive Fibonacci\n",
    "\n",
    "```python\n",
    "def fib_iter(n):\n",
    "    if n == 0:\n",
    "        return 0\n",
    "    elif n == 1:\n",
    "        return 1\n",
    "    else:\n",
    "        fib_i = 0\n",
    "        fib_ii = 1\n",
    "        for i in range(n-1):\n",
    "            tmp = fib_i\n",
    "            fib_i = fib_ii\n",
    "            fib_ii = tmp + fib_ii\n",
    "    return fib_ii\n",
    "```\n",
    "\n",
    "- best case: $O(1)$\n",
    "- worst case: $O(1) + O(n) + O(1) => O(n)$\n",
    "\n",
    "---\n",
    "\n",
    "```python\n",
    "def fib_recur(n):\n",
    "    \"\"\" assumes n an int >= 0 \"\"\"\n",
    "    if n == 0:\n",
    "        return 0\n",
    "    if n == 1:\n",
    "        return 1\n",
    "    else:\n",
    "        return fib_recur(n-1) + fib_recur(n-2)\n",
    "```\n",
    "\n",
    "Worst case: $O(2^n)\n",
    "\n",
    "\n",
    "---\n"
   ]
  },
  {
   "cell_type": "markdown",
   "metadata": {
    "slideshow": {
     "slide_type": "slide"
    }
   },
   "source": [
    "### Big OH Summary\n",
    "\n",
    "- compare **efficiency of algorithms**\n",
    "    - notation that describes growth\n",
    "    - **lower order of growth** is better\n",
    "    - independent of machine or specific implementation\n",
    "\n",
    "- use Big Oh\n",
    "    - describe order of growth\n",
    "    - **asymptotic notation**\n",
    "    - **upper bound**\n",
    "    - **worst case** analysis\n"
   ]
  },
  {
   "cell_type": "markdown",
   "metadata": {
    "slideshow": {
     "slide_type": "slide"
    }
   },
   "source": [
    "### Complexity of Common Python Functions\n",
    "\n",
    "##### Lists: $n$ is $len(L)$\n",
    "- index $O(1)$\n",
    "- store $O(1)$\n",
    "- length $O(1)$\n",
    "- append $O(1)$\n",
    "- == $O(n)$\n",
    "- remove $O(n)$\n",
    "- copy $O(n)$\n",
    "- reverse $O(n)$\n",
    "- iteration $O(n)$\n",
    "- in list $O(n)$\n",
    "\n",
    "##### Dictionaries: $n$ is $len(d)$\n",
    "- worst case\n",
    "    - index $O(n)$\n",
    "    - store $O(n)$\n",
    "    - length $O(n)$\n",
    "    - delete $O(n)$\n",
    "    - iteration $O(n)$\n",
    "- average case\n",
    "    - index $O(1)$\n",
    "    - store $O(1)$\n",
    "    - delete $O(1)$\n",
    "    - iteration $O(n)$"
   ]
  },
  {
   "cell_type": "code",
   "execution_count": null,
   "metadata": {},
   "outputs": [],
   "source": []
  }
 ],
 "metadata": {
  "celltoolbar": "Slideshow",
  "kernelspec": {
   "display_name": "Python 3",
   "language": "python",
   "name": "python3"
  },
  "language_info": {
   "codemirror_mode": {
    "name": "ipython",
    "version": 3
   },
   "file_extension": ".py",
   "mimetype": "text/x-python",
   "name": "python",
   "nbconvert_exporter": "python",
   "pygments_lexer": "ipython3",
   "version": "3.8.2"
  }
 },
 "nbformat": 4,
 "nbformat_minor": 2
}
