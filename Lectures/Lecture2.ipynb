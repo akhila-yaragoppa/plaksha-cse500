{
 "cells": [
  {
   "cell_type": "markdown",
   "metadata": {
    "slideshow": {
     "slide_type": "slide"
    }
   },
   "source": [
    "# Introduction to Computation and Python Programming\n",
    "\n",
    "## Lecture 2"
   ]
  },
  {
   "cell_type": "markdown",
   "metadata": {
    "slideshow": {
     "slide_type": "slide"
    }
   },
   "source": [
    "### Today\n",
    "----------\n",
    "\n",
    "- String type\n",
    "- Branching and conditionals\n",
    "- Indentation\n",
    "- Iteration and Loops"
   ]
  },
  {
   "cell_type": "markdown",
   "metadata": {
    "slideshow": {
     "slide_type": "slide"
    }
   },
   "source": [
    "### Strings\n",
    "\n",
    "- Letters, special characters, spaces, digits\n",
    "- enclose in **single or double quotes**\n",
    "- overloaded operators + and *\n",
    "- Strings are immutable"
   ]
  },
  {
   "cell_type": "markdown",
   "metadata": {
    "slideshow": {
     "slide_type": "slide"
    }
   },
   "source": [
    " ### Code ---------------->\n"
   ]
  },
  {
   "cell_type": "markdown",
   "metadata": {
    "slideshow": {
     "slide_type": "slide"
    }
   },
   "source": [
    "### INPUT / OUTPUT: input (\" \")\n",
    "\n",
    "- input(...) was introduced in Python 3\n",
    "- prints what is in quotes\n",
    "- takes user input and binds to a variable\n",
    "- input value is always a string - have to cast to get int etc."
   ]
  },
  {
   "cell_type": "markdown",
   "metadata": {
    "slideshow": {
     "slide_type": "slide"
    }
   },
   "source": [
    "### Branching and Conditionals\n",
    "\n",
    "![alt-text](diagrams/Branching.svg)\n",
    "\n",
    "```python\n",
    "if Boolean expression:  \n",
    "    block of code  \n",
    "else:  \n",
    "    block of code  \n",
    "```\n",
    "\n",
    "**Remember** **indentation** is semantically meaningful in Python\n",
    "\n",
    "Compound boolean expression such as:\n",
    "\n",
    "```python\n",
    "if x < y and x < z:\n",
    "    ...\n",
    "```"
   ]
  },
  {
   "cell_type": "markdown",
   "metadata": {
    "slideshow": {
     "slide_type": "slide"
    }
   },
   "source": [
    "### Iteration (while)\n",
    "\n",
    "![alt-text](diagrams/Iteration.svg)\n",
    "\n",
    "```python\n",
    "while Boolean expression:\n",
    "    block of code\n",
    "block of code\n",
    "```\n",
    "\n",
    "Sometimes it is useful to exit the loop in the body without executing the test using the *break* statement\n"
   ]
  },
  {
   "cell_type": "markdown",
   "metadata": {
    "slideshow": {
     "slide_type": "slide"
    }
   },
   "source": [
    "### Iteration (for loop)\n",
    "\n",
    "```python\n",
    "for variable in sequence:\n",
    "    block of code\n",
    "```\n",
    "\n",
    "sequence is most commonly generated using built-in function **range** which takes three integers - *start*, *stop* and *step*\n"
   ]
  },
  {
   "cell_type": "markdown",
   "metadata": {
    "slideshow": {
     "slide_type": "slide"
    }
   },
   "source": [
    "### EXHAUSTIVE ENUMERATION\n",
    "\n",
    "- Also called **guess-and-check**\n",
    "- Given a problem:\n",
    "    - Guess a solution\n",
    "    - Check if solution is correct\n",
    "    - Keep guessing until solution is found or all values are guessed"
   ]
  },
  {
   "cell_type": "markdown",
   "metadata": {
    "slideshow": {
     "slide_type": "slide"
    }
   },
   "source": [
    "### Approximate Solution (Square root)\n",
    "\n",
    "- Looking for a good enough solution\n",
    "- Start with a guess and increment by a **small value**\n",
    "- keep guessing while |ans\\*ans -x| >= epsilon, for some **small epsilon**\n",
    "\n",
    "- increment - smaller implies more guesses\n",
    "- epsilon - larger implies less accurate answer"
   ]
  },
  {
   "cell_type": "markdown",
   "metadata": {
    "slideshow": {
     "slide_type": "slide"
    }
   },
   "source": [
    "### Bisection Search\n",
    "\n",
    "- Works for functions where value of function varies montonically with input - relies on the fact that numbers are **totally ordered**\n",
    "- So square root of x lies somewhere along the number line from 0 to max\n",
    "- Let us guess in the middle and then check if the answer is too big or too small\n",
    "- Depending on that we know if the answer is to the left or right\n",
    "- Every guess divides the search space in **half** - hence **bisection search**\n",
    "    - The number of guesses is proportion to log<sub>2</sub>n"
   ]
  }
 ],
 "metadata": {
  "celltoolbar": "Slideshow",
  "kernelspec": {
   "display_name": "Python 3",
   "language": "python",
   "name": "python3"
  },
  "language_info": {
   "codemirror_mode": {
    "name": "ipython",
    "version": 3
   },
   "file_extension": ".py",
   "mimetype": "text/x-python",
   "name": "python",
   "nbconvert_exporter": "python",
   "pygments_lexer": "ipython3",
   "version": "3.7.3"
  }
 },
 "nbformat": 4,
 "nbformat_minor": 2
}
