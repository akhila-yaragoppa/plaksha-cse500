{
 "cells": [
  {
   "cell_type": "markdown",
   "metadata": {
    "slideshow": {
     "slide_type": "slide"
    }
   },
   "source": [
    "# Introduction to Computation and Python Programming\n",
    "\n",
    "## Lecture 3"
   ]
  },
  {
   "cell_type": "markdown",
   "metadata": {
    "slideshow": {
     "slide_type": "slide"
    }
   },
   "source": [
    "### Today\n",
    "----------\n",
    "\n",
    "- Compound Data Types\n",
    "    - Tuple\n",
    "    - List\n",
    "    - Range\n",
    "    - Recursion\n",
    "    - Dictionary\n",
    "    - Generators\n"
   ]
  },
  {
   "cell_type": "markdown",
   "metadata": {
    "slideshow": {
     "slide_type": "fragment"
    }
   },
   "source": [
    "### Tuples\n",
    "\n",
    "- **Immutable, ordered** sequences of elements\n",
    "- Elements can be of **any type** in the same tuple\n",
    "- Like strings, tuples can be **concatenated, indexed and sliced**\n",
    "- **For** statement can iterate over elements of a tuple"
   ]
  },
  {
   "cell_type": "markdown",
   "metadata": {
    "slideshow": {
     "slide_type": "slide"
    }
   },
   "source": [
    "### Ranges\n",
    "\n",
    "- Like strings and tuples, ranges are **immutable**\n",
    "- *range* function returns an object of type range\n",
    "- range takes **(start, stop, step)**\n",
    "- if 2 args are supplied => **step == 1**\n",
    "- if 1 arg is supplied => **step == 1** and **start == 0**\n",
    "- Size of range object is not proportional to the number of elements"
   ]
  },
  {
   "cell_type": "markdown",
   "metadata": {
    "slideshow": {
     "slide_type": "slide"
    }
   },
   "source": [
    "### Lists\n",
    "\n",
    "- **ordered sequence** of elements, accessible by index\n",
    "- a list is denoted by **square brackets** []\n",
    "- a list contains **elements**\n",
    "    - usually **homogeneous**\n",
    "    - can contain mixed types\n",
    "- list elements can be changed - so **mutable**\n",
    "- operations like *append* and *extend* mutate lists\n",
    "- lists can be cloned using *slicing* or using the *list(...)* function\n",
    "- **List comprehension** - concise way to apply an operation to each element and produce a new list"
   ]
  },
  {
   "cell_type": "markdown",
   "metadata": {
    "slideshow": {
     "slide_type": "slide"
    }
   },
   "source": [
    "### Recursion\n",
    "\n",
    "- Algorithmically: a way to design solutions to problems by **divide-and-conquer** or **decrease-and-conquer**\n",
    "    - reduce a problem to simpler versions of the same problem\n",
    "- Semantically: a programming technique where a **function calls itself**\n",
    "    - A recursive defintion is made of two parts:\n",
    "        - at least one **base case** - that directly specifies the result for a special case \n",
    "        - at lest one **recursive (inductive) case** - defines the answer in terms of the answer to the question on some other input"
   ]
  },
  {
   "cell_type": "markdown",
   "metadata": {
    "slideshow": {
     "slide_type": "slide"
    }
   },
   "source": [
    "### Factorial\n",
    "\n",
    "- Classic **inductive definition**:\n",
    "    <p>\n",
    "    $1! = 1$<br>\n",
    "    $(n + 1)! = (n + 1) * n!$\n",
    "    </p>\n",
    "- First equation - base case; Second equation - defines factorial for all natural numbers, except the base case, in terms of the factorial of the previous number\n",
    "\n",
    "```python\n",
    "def factI(n):\n",
    "   \"\"\"Assumes n an int > 0\n",
    "      Returns n!\"\"\"\n",
    "   result = 1\n",
    "   while n > 1:\n",
    "      result = result * n\n",
    "      n -= 1\n",
    "   return result\n",
    "```\n",
    "\n",
    "\n",
    "```python\n",
    "def factR(n):\n",
    "   \"\"\"Assumes n an int > 0\n",
    "      Returns n!\"\"\"\n",
    "   if n == 1:\n",
    "       return n\n",
    "   else:\n",
    "       return n*factR(n - 1)\n",
    "```\n",
    "\n",
    "- Visualization [here](http://www.pythontutor.com/visualize.html#code=def%20factR%28n%29%3A%0A%20%20%20%22%22%22Assumes%20n%20an%20int%20%3E%200%0A%20%20%20%20%20%20Returns%20n!%22%22%22%0A%20%20%20if%20n%20%3D%3D%201%3A%0A%20%20%20%20%20%20%20return%20n%0A%20%20%20else%3A%0A%20%20%20%20%20%20%20return%20n*factR%28n%20-%201%29%0A%20%20%20%20%20%20%20%0A%0Aprint%28factR%284%29%29&cumulative=false&curInstr=14&heapPrimitives=nevernest&mode=display&origin=opt-frontend.js&py=3&rawInputLstJSON=%5B%5D&textReferences=false)\n",
    "- each recursive call to a function creates its **own scope / environment**\n",
    "- **bindings of variables** in a scope are not changed by recursive call\n",
    "- flow control passes back to **previous scope** once function call returns value\n",
    "\n",
    "---\n",
    "\n",
    "- Recursion may be simpler, more intuitive\n",
    "- Recursion may be efficient from programmer POV\n",
    "- Recursion may **not** be efficient from computer POV\n",
    "\n"
   ]
  },
  {
   "cell_type": "markdown",
   "metadata": {
    "slideshow": {
     "slide_type": "slide"
    }
   },
   "source": [
    "### Mathematical Induction\n",
    "\n",
    "- To prove a statement indexed on integers is true for all $n$\n",
    "    - Prove it is true when $n$ is smallest - e.g. $n = 0$ or $n = 1$\n",
    "    - Then prove that if it is true for an arbitrary value of $n$, it must be true for $n + 1$\n",
    "- Example: $0 + 1 + 2 + 3 + ... + n = n (n + 1) / 2$\n",
    "- Proof:\n",
    "    - If $n = 0$, then LHS is $0$ and RHS is $0 * 1 / 2 = 0$, so true\n",
    "    - Assume true for some $k$, then we need to show that:\n",
    "        - $0+ 1 + 2 + ... + k + (k+1) = ((k+1)(k+2))/2$\n",
    "        - LHS is $k(k+1)/2 + (k+1)$ by assumption that the property holds for problem of size k\n",
    "        - $= ((k+1)(k+2))/2$\n",
    "        - Hence expression holds for all $n > 0$\n",
    "\n",
    "---\n",
    "\n",
    "- Same logic applies to code\n",
    "```python\n",
    "def mult(a, b):\n",
    "    if b == 1:\n",
    "        return a\n",
    "    else:\n",
    "        return a + mult(a, b-1)\n",
    "```\n",
    "- Base case, we can show that `mult` must return correct answer\n",
    "- For recursive case, we can assume that `mult` correctly returns an answer for problems of size smaller than `b`, then by addtion step, it must also return a correct answer for problem of size `b`\n",
    "- Thus by induction, code correctly returns answer\n"
   ]
  },
  {
   "cell_type": "markdown",
   "metadata": {
    "slideshow": {
     "slide_type": "slide"
    }
   },
   "source": [
    "### Fibonacci Numbers\n",
    "\n",
    "- Leonardo of Pisa (aka Fibonacci), 1202 modeled \"breeding like rabbits\":\n",
    "    - a newborn pair of rabbits (one female, one male) are put in a pen\n",
    "    - rabbits mate at age one month\n",
    "    - rabbits have a gestation period of one month\n",
    "    - assume that rabbits never die, that every female always products one new pair (one female, one male) every month from its second month on\n",
    "    - how many female rabbits are there at the end of one year \n",
    "- Growth in the population of rabbits:\n",
    "\n",
    "|Month|Females|\n",
    "|-----|-------|\n",
    "0|1\n",
    "1|1\n",
    "2|2\n",
    "3|3\n",
    "4|5\n",
    "5|8\n",
    "6|13\n",
    "\n",
    "- Growth in population of females is described naturally by the **recurrence**\n",
    "<br>\n",
    "    $females(0) = 1$<br>\n",
    "    $females(1) = 1$<br>\n",
    "    $females(n + 2) = females(n+1) + females(n)$\n",
    "<br>\n",
    "- This has **two** base cases, not just one\n",
    "- There are **two** recursive calls, not just one\n",
    "\n",
    "- see code\n"
   ]
  },
  {
   "cell_type": "markdown",
   "metadata": {
    "slideshow": {
     "slide_type": "slide"
    }
   },
   "source": [
    "### Recursion on non-numerics\n",
    "\n",
    "- How to check if a string is a palindrome i.e. reads the same forwards and backwards\n",
    "    - \"Able was I ere I saw Elba\" - attributed to Napolean\n",
    "    - \"Are we not drawn onward, we few, drawn onward to a new era?\" - attributed to Anne Michaels\n",
    "- Solving recursively:\n",
    "    - First, convert the string to just characters - strip out punctutation and convert to lower case\n",
    "    - Recursive solution:\n",
    "        - Base case: A string of length 0 or 1 is a palindrome\n",
    "        - Recursive case: if first character matches last character, then is palindrome if middle section is palindrome\n",
    "- see code\n",
    "- An example of **divide-and-conquer** algorithm:\n",
    "    - solve a problem by breaking it into a set of sub-problems such that:\n",
    "        - sub-problems are easier to solve than the original\n",
    "        - solutions of the sub-problem can be combined to solve the original\n"
   ]
  },
  {
   "cell_type": "markdown",
   "metadata": {
    "slideshow": {
     "slide_type": "slide"
    }
   },
   "source": [
    "### Dictionaries\n",
    "\n",
    "- Objects of type **dict** (short for dictionary) are like lists except that we index them using **keys**\n",
    "- A set of key/value pairs\n",
    "- Enclosed in curly braces, each element written as a key followed by a colon followed by a value\n",
    "- e.g. see code\n",
    "\n",
    "\n",
    "        "
   ]
  },
  {
   "cell_type": "markdown",
   "metadata": {
    "slideshow": {
     "slide_type": "slide"
    }
   },
   "source": [
    "### Dictionary keys and values\n",
    "\n",
    "- Values\n",
    "    - any type (**immutable and mutable**)\n",
    "    - can be **duplicates**\n",
    "    - dictionary values can be lists, even other dictionaries\n",
    "- Keys\n",
    "    - must be **unique**\n",
    "    - **immutable** type (int, float, string, tuple, bool)\n",
    "        - need object that is hashable\n"
   ]
  },
  {
   "cell_type": "markdown",
   "metadata": {
    "slideshow": {
     "slide_type": "slide"
    }
   },
   "source": [
    "### Using dictionaries to improve recursive Fibonacci\n",
    "\n",
    "```python\n",
    "def fib(n):\n",
    "    if n == 1:\n",
    "        return 1\n",
    "    elif n == 2:\n",
    "        return 2\n",
    "    else:\n",
    "        return fib(n-1) + fib(n-2)\n",
    "```\n",
    "\n",
    "- two base cases\n",
    "- calls itself twice\n",
    "- this code is inefficient\n",
    "- e.g. examine how `fib(5)` is calculated:\n",
    "    - `fib(4)` and `fib(3)` are required\n",
    "    - `fib(4)` requires `fib(3)` and `fib(2)`\n",
    "    - `fib(3)` requires `fib(2)` and `fib(1)`\n",
    "    - recalculating the same value many times\n",
    "    - could keep track of already calculated values\n",
    "    \n",
    "- Fibonacci with dictionary - see code\n",
    "- Calling fib(34) results in 11,405,773 recursive calls\n",
    "- Calling fib_efficient(34) results in 65 recursive calls\n",
    "- Using dictionaries to store intermediate results can be very efficient\n",
    "- Works only for procedures without any side effects - i.e. always produce the same result for a specific argument independent of any other computations between calls    "
   ]
  },
  {
   "cell_type": "markdown",
   "metadata": {
    "slideshow": {
     "slide_type": "slide"
    }
   },
   "source": [
    "### Generators\n",
    "\n",
    "- The `yield` keyword is used to create a **generator**\n",
    "- A generator is a type of collection that produces items on-the-fly and can only be iterated once\n",
    "- Better performance and lower memory usage compared to other collections (like Lists)\n",
    "- see code\n",
    "- The big difference is how things are stored in memory:\n",
    "    - List: Stores all elements in memory at once\n",
    "    - Generator: Only stores the next element which is generated on the fly\n",
    "- Can iterate over a list multiple times but have to recreate a generator to iterate over it again"
   ]
  },
  {
   "cell_type": "markdown",
   "metadata": {
    "slideshow": {
     "slide_type": "slide"
    }
   },
   "source": [
    "### Yield statement\n",
    "\n",
    "- `yield` helps define a new generator\n",
    "- `yield` unlike `return` turns a Python function into a generator\n",
    "- see code\n",
    "- Nothing stored in memory until the generator is iterated over (`next` value)\n"
   ]
  },
  {
   "cell_type": "code",
   "execution_count": null,
   "metadata": {},
   "outputs": [],
   "source": []
  }
 ],
 "metadata": {
  "celltoolbar": "Slideshow",
  "kernelspec": {
   "display_name": "Python 3",
   "language": "python",
   "name": "python3"
  },
  "language_info": {
   "codemirror_mode": {
    "name": "ipython",
    "version": 3
   },
   "file_extension": ".py",
   "mimetype": "text/x-python",
   "name": "python",
   "nbconvert_exporter": "python",
   "pygments_lexer": "ipython3",
   "version": "3.7.3"
  }
 },
 "nbformat": 4,
 "nbformat_minor": 2
}
